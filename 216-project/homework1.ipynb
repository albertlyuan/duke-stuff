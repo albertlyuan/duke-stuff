{
 "cells": [
  {
   "cell_type": "markdown",
   "metadata": {
    "id": "NH3ciI7BAHTK"
   },
   "source": [
    "# Homework 1"
   ]
  },
  {
   "cell_type": "markdown",
   "metadata": {
    "id": "KE4iSkX-AHTP"
   },
   "source": [
    "In this exercise, you will warm up / refresh your Python skills by analyzing some real data inside of a Jupyter notebook environment. You should write whatever **Python** code you like to solve these problems. You can search on the web for documentation and techniques to help you solve the problem. See especially the official [Python tutorial](https://docs.python.org/3/tutorial/) and [documentation](https://docs.python.org/3/).\n",
    "\n",
    "For grading, we will be using an autograder in [Gradescope](http://gradescope.com/). It grades based on values in specific variables or function names. Make sure to read the problem carefully to know what names to use so the autograder can correctly find your answers.\n",
    "\n",
    "When you are ready to check your answer(s), submit your assignment at [Gradescope](http://gradescope.com/)."
   ]
  },
  {
   "cell_type": "markdown",
   "metadata": {
    "id": "FAMWJsE1AHTR"
   },
   "source": [
    "## Part 1: Text\n",
    "The `text.txt` file contains the opening sentences of Charles' Dickens novel *A Tale of Two Cities*. Run the code below. It will read the file, store it in a string variable `text`, and print the first 500 characters."
   ]
  },
  {
   "cell_type": "code",
   "execution_count": 3,
   "metadata": {
    "id": "JprjPXt8AHTS"
   },
   "outputs": [
    {
     "name": "stdout",
     "output_type": "stream",
     "text": [
      "it was the best of times, it was the worst of times, it was the age of wisdom, it was the age of foolishness, it was the epoch of belief, it was the epoch of incredulity, it was the season of light, it was the season of darkness, it was the spring of hope, it was the winter of despair, we had everything before us, we had nothing before us, we were all going direct to heaven, we were all going direct the other way- in short, the period was so far like the present period, that some of its noisiest ...\n"
     ]
    }
   ],
   "source": [
    "f = open('text.txt')\n",
    "text = f.read()\n",
    "f.close()\n",
    "\n",
    "print(text[:500], '...')"
   ]
  },
  {
   "cell_type": "markdown",
   "metadata": {
    "deletable": false,
    "editable": false,
    "id": "4Oej9d20AHTV"
   },
   "source": [
    "### Question 1\n",
    "In the variable `q1_1` put the first sentence of the text. In the variable `q1_2` put the last sentence of the text. You may assume sentences only end with a period (`'.'`).\n",
    "\n",
    "You may find the Python `split` method for strings to be useful: https://docs.python.org/3/library/stdtypes.html?highlight=split#str.split `sep='.'`.\n",
    "<!--\n",
    "BEGIN QUESTION\n",
    "name: q1\n",
    "manual: false\n",
    "points:\n",
    "    - 0.5\n",
    "    - 0.5\n",
    "    - 0.5\n",
    "    - 0.5\n",
    "    - 1\n",
    "    - 1\n",
    "-->"
   ]
  },
  {
   "cell_type": "code",
   "execution_count": 63,
   "metadata": {
    "id": "I_MRb-I3AHTV",
    "scrolled": true
   },
   "outputs": [
    {
     "name": "stdout",
     "output_type": "stream",
     "text": [
      "611\n",
      "204\n"
     ]
    }
   ],
   "source": [
    "# Code for question 1\n",
    "sentences = text.split(\".\");\n",
    "q1_1 = sentences[0]\n",
    "q1_2 = sentences[-2];\n",
    "print(len(q1_1))\n",
    "print(len(q1_2))"
   ]
  },
  {
   "cell_type": "markdown",
   "metadata": {
    "deletable": false,
    "editable": false,
    "id": "x71vVZhOo4Dd"
   },
   "source": [
    "### Question 2\n",
    "In the variable `q2` place the total number of vowels (`a`, `e`, `i`, `o`, `u`) that appear in the text.\n",
    "<!--\n",
    "BEGIN QUESTION\n",
    "name: q2\n",
    "manual: false\n",
    "points:\n",
    "    - 2.0\n",
    "    - 2.0\n",
    "-->"
   ]
  },
  {
   "cell_type": "code",
   "execution_count": 14,
   "metadata": {
    "id": "Yyiy4Ljso4Dd"
   },
   "outputs": [
    {
     "name": "stdout",
     "output_type": "stream",
     "text": [
      "1735\n"
     ]
    }
   ],
   "source": [
    "# Code for question 2\n",
    "count = 0\n",
    "for letter in text:\n",
    "    if letter in [\"a\",\"e\",\"i\",\"o\",\"u\"]:\n",
    "        count+=1;\n",
    "q2 = count;"
   ]
  },
  {
   "cell_type": "markdown",
   "metadata": {
    "deletable": false,
    "editable": false,
    "id": "F4OdzFwoo4De"
   },
   "source": [
    "### Question 3\n",
    "A trigram is a string of exactly 3 characters (or a string with length exactly 3), including blank spaces. For example, the first five trigrams in the text are:\n",
    "1. `it `\n",
    "2. `t w`\n",
    "3. ` wa`\n",
    "4. `was`\n",
    "5. `as `\n",
    "\n",
    "In the variable `q3_1` place the most common trigram in the text. In the variable `q3_2` place the number of times the most common trigram shows in the text.\n",
    "<!--\n",
    "BEGIN QUESTION\n",
    "name: q3\n",
    "manual: false\n",
    "points:\n",
    "    - 1.0\n",
    "    - 1.0\n",
    "    - 1.0\n",
    "    - 1.0\n",
    "-->"
   ]
  },
  {
   "cell_type": "code",
   "execution_count": 70,
   "metadata": {
    "id": "OycU9iDgo4De"
   },
   "outputs": [
    {
     "name": "stdout",
     "output_type": "stream",
     "text": [
      "[(' th', 136), ('the', 106), ('he ', 81), (' of', 57), ('of ', 55), ('and', 55), ('nd ', 50), (' an', 48), ('ed ', 43), ('in ', 34), (' in', 32), ('ing', 30), (' to', 29), ('s, ', 28), ('ng ', 28), ('as ', 27), (' wa', 25), ('er ', 25), ('to ', 25), ('n t', 25), ('re ', 24), ('ere', 23), (' a ', 23), (', a', 22), ('was', 21), (' we', 20), ('e t', 20), ('ent', 20), ('d t', 20), ('s t', 19), ('f t', 19), (' it', 19), ('on ', 19), (' wi', 18), (' ha', 18), ('at ', 18), ('eve', 17), (', t', 17), ('tha', 17), ('th ', 17), ('d a', 17), (' hi', 17), ('t t', 16), (' on', 16), ('wit', 16), ('ith', 16), ('t w', 15), (' be', 15), ('e a', 15), ('e o', 15), ('her', 15), (' fa', 15), ('es ', 15), (' co', 15), ('it ', 14), ('e w', 14), (' se', 14), ('ter', 14), ('e h', 14), ('s o', 14), ('e s', 13), (', w', 13), ('hat', 13), ('en ', 13), ('an ', 13), ('his', 13), ('n a', 13), (' ro', 13), ('is ', 13), ('r o', 12), ('ad ', 12), (' no', 12), ('nce', 12), (' wh', 12), (', i', 11), ('ess', 11), ('red', 11), ('e, ', 11), ('wer', 11), ('all', 11), (' he', 11), ('tho', 11), (' re', 11), ('one', 11), ('ne ', 11), ('ear', 11), ('ous', 11), ('out', 11), (' by', 11), ('by ', 11), (' ma', 11), ('ut ', 11), (' fo', 10), ('ch ', 10), (' de', 10), ('had', 10), ('for', 10), ('ven', 10), ('ts ', 10), ('or ', 10), (' en', 10), (' lo', 10), ('hou', 10), ('ion', 10), ('e c', 10), ('ly ', 10), ('d b', 10), ('e m', 10), ('man', 10), ('ers', 10), ('es,', 9), (' wo', 9), ('igh', 9), ('thi', 9), ('n, ', 9), ('nt ', 9), ('s i', 9), ('d o', 9), ('ive', 9), (' la', 9), ('han', 9), ('ds ', 9), (' at', 9), ('oug', 9), ('ugh', 9), ('t o', 8), ('y, ', 8), ('n o', 8), (' li', 8), (' ev', 8), ('ver', 8), ('way', 8), (' sh', 8), (' pr', 8), ('h a', 8), ('ain', 8), ('lan', 8), ('e l', 8), ('s a', 8), ('d s', 8), ('n h', 8), ('tio', 8), ('s w', 8), ('e i', 8), ('tur', 8), ('h t', 8), ('rea', 8), ('st ', 7), ('ght', 7), ('d n', 7), (' al', 7), (' di', 7), ('d w', 7), ('d, ', 7), ('me ', 7), ('t a', 7), ('ood', 7), ('e d', 7), ('ace', 7), ('ir ', 7), (' fr', 7), ('r t', 7), (' cr', 7), ('al ', 7), (' st', 7), ('ate', 7), (' ou', 7), ('sev', 7), ('und', 7), ('ure', 7), ('y a', 7), ('ce ', 7), ('g t', 7), ('e f', 7), (' do', 7), (' pa', 7), ('y o', 7), ('gh ', 7), ('le ', 7), ('se ', 7), ('ot ', 7), ('e r', 7), ('eat', 7), (' mu', 7), ('est', 6), ('wor', 6), ('ge ', 6), ('t, ', 6), ('r, ', 6), ('oth', 6), (' go', 6), ('ire', 6), ('rec', 6), ('r w', 6), ('e p', 6), (' pe', 6), ('per', 6), ('ar ', 6), ('res', 6), ('ies', 6), ('rit', 6), ('ist', 6), ('ste', 6), ('n i', 6), ('r f', 6), (' su', 6), ('; t', 6), ('ran', 6), ('anc', 6), ('. i', 6), ('s c', 6), ('ord', 6), (' fi', 6), (' ye', 6), ('our', 6), ('con', 6), (' as', 6), ('d h', 6), ('who', 6), ('rou', 6), ('t i', 6), ('hei', 6), ('mer', 6), ('wn ', 6), ('ong', 6), (' mo', 6), ('s f', 6), (' tr', 6), ('mon', 6), ('sti', 6), (', b', 6), (' bu', 6), ('urn', 6), ('ead', 6), ('y t', 6), (' ca', 6), ('hem', 6), ('m, ', 5), ('e e', 5), (' sp', 5), ('des', 5), ('hin', 5), ('ll ', 5), ('o h', 5), ('sho', 5), ('eri', 5), ('s s', 5), (' so', 5), ('far', 5), ('ome', 5), ('its', 5), (' or', 5), ('com', 5), ('een', 5), ('n w', 5), ('thr', 5), ('hro', 5), ('eng', 5), ('ngl', 5), (' bo', 5), ('oun', 5), ('rer', 5), ('sta', 5), ('rds', 5), ('led', 5), ('yea', 5), (' hu', 5), ('s. ', 5), ('tai', 5), ('ned', 5), ('les', 5), ('sse', 5), ('day', 5), ('om ', 5), ('e g', 5), ('ard', 5), ('nou', 5), ('ade', 5), ('lon', 5), ('ond', 5), ('rs,', 5), (' ra', 5), ('atu', 5), ('eir', 5), ('der', 5), ('own', 5), (' am', 5), ('whi', 5), ('hic', 5), ('tra', 5), (' ch', 5), ('rs ', 5), (' si', 5), ('use', 5), ('ty ', 5), ('f s', 5), ('dea', 5), ('ath', 5), ('ses', 5), ('arm', 5), ('rme', 5), ('e b', 4), ('mes', 4), ('age', 4), ('ish', 4), ('nes', 4), ('h o', 4), ('cre', 4), ('ity', 4), ('son', 4), ('f l', 4), (' da', 4), ('win', 4), ('nte', 4), ('we ', 4), ('ery', 4), ('ore', 4), ('ect', 4), ('hea', 4), ('ave', 4), ('en,', 4), ('rio', 4), ('lik', 4), ('ike', 4), ('ese', 4), ('uth', 4), ('iti', 4), ('s b', 4), (', f', 4), ('lat', 4), ('ati', 4), ('ve ', 4), ('gre', 4), ('ree', 4), ('ari', 4), ('ris', 4), ('kin', 4), ('lar', 4), ('lai', 4), ('ron', 4), ('gla', 4), ('fra', 4), ('e. ', 4), ('tri', 4), ('rie', 4), ('lor', 4), ('rd ', 4), ('usa', 4), ('san', 4), ('fiv', 4), ('spi', 4), ('ons', 4), ('ded', 4), ('d p', 4), ('d r', 4), ('att', 4), ('ble', 4), ('ay,', 4), ('pro', 4), ('ppe', 4), ('ang', 4), ('de ', 4), (' up', 4), ('ane', 4), ('s m', 4), (' me', 4), ('ast', 4), ('pas', 4), ('ely', 4), ('row', 4), ('ss ', 4), ('ich', 4), ('h, ', 4), (', s', 4), (', h', 4), ('d m', 4), ('rta', 4), ('tan', 4), ('any', 4), ('ny ', 4), ('roo', 4), ('ey ', 4), ('tor', 4), ('sel', 4), ('uch', 4), ('enc', 4), ('dy ', 4), ('bur', 4), ('w, ', 4), ('d i', 4), ('woo', 4), ('ake', 4), ('ork', 4), ('rk ', 4), ('er,', 4), ('y s', 4), (' tu', 4), ('y w', 4), ('ile', 4), ('o o', 4), ('amo', 4), ('hig', 4), ('rob', 4), ('obb', 4), ('bbe', 4), ('d c', 4), ('hot', 4), ('us ', 4), ('em,', 4), ('now', 4), ('bes', 3), (' ti', 3), ('ime', 3), ('ors', 3), ('f w', 3), ('f f', 3), ('ss,', 3), ('f b', 3), ('f, ', 3), ('sea', 3), ('eas', 3), ('f d', 3), ('dar', 3), ('ark', 3), ('pri', 3), ('rin', 3), ('f h', 3), (' ho', 3), ('int', 3), ('esp', 3), ('air', 3), ('g b', 3), ('bef', 3), ('efo', 3), ('e u', 3), (' us', 3), ('not', 3), ('dir', 3), ('ct ', 3), (' ot', 3), ('n s', 3), ('iod', 3), ('od ', 3), ('r l', 3), ('ke ', 3), ('t p', 3), ('t s', 3), ('som', 3), ('ins', 3), ('ted', 3), ('g r', 3), ('ece', 3), ('ved', 3), ('r e', 3), ('par', 3), ('y. ', 3), ('a k', 3), ('arg', 3), ('rge', 3), ('e j', 3), (' ja', 3), ('jaw', 3), ('aw ', 3), ('que', 3), (' pl', 3), ('pla', 3), ('fac', 3), ('ce,', 3), (', o', 3), ('f e', 3), ('fai', 3), ('n c', 3), ('l t', 3), ('o t', 3), ('te ', 3), ('ves', 3), ('d f', 3), ('she', 3), ('hes', 3), ('n g', 3), ('ral', 3), ('l w', 3), ('hun', 3), ('ndr', 3), ('dre', 3), ('nty', 3), ('ty-', 3), ('y-f', 3), ('-fi', 3), ('pir', 3), ('iri', 3), ('itu', 3), ('ns ', 3), ('t h', 3), ('cen', 3), ('ntl', 3), ('tly', 3), ('ine', 3), ('wen', 3), ('sed', 3), ('m a', 3), ('tic', 3), ('ife', 3), ('fe ', 3), (' gu', 3), ('s h', 3), ('app', 3), ('nge', 3), ('men', 3), ('nts', 3), ('ndo', 3), ('don', 3), ('min', 3), ('nst', 3), ('hos', 3), ('id ', 3), ('d d', 3), ('ry ', 3), ('gin', 3), ('nal', 3), ('ped', 3), ('art', 3), ('rde', 3), ('y c', 3), ('fro', 3), ('rom', 3), ('a c', 3), ('h s', 3), ('ame', 3), ('ica', 3), ('str', 3), ('te,', 3), ('ant', 3), ('t r', 3), ('r s', 3), ('hie', 3), (', r', 3), ('lle', 3), ('dow', 3), ('ill', 3), ('g p', 3), (' un', 3), ('sto', 3), ('ert', 3), ('elf', 3), ('nds', 3), (' pi', 3), ('o d', 3), ('y p', 3), ('ces', 3), ('eno', 3), ('ote', 3), (' gr', 3), ('uff', 3), ('odm', 3), ('dma', 3), ('an,', 3), ('be ', 3), (' sa', 3), ('o b', 3), ('m t', 3), ('car', 3), ('ust', 3), (' mi', 3), ('hey', 3), ('muc', 3), ('ghw', 3), ('hwa', 3), ('ay ', 3), ('rni', 3), ('y; ', 3), ('sma', 3), ('ail', 3), ('o s', 3), ('ho ', 3), ('ht ', 3), ('f a', 3), ('fir', 3), ('mus', 3), ('usk', 3), ('ske', 3), ('ket', 3), ('ete', 3), ('tee', 3), ('eer', 3), ('; n', 3), ('ow,', 3), ('ose', 3), ('tim', 2), (' ag', 2), ('lis', 2), ('hne', 2), (' ep', 2), ('epo', 2), ('poc', 2), ('och', 2), ('eli', 2), ('lie', 2), ('f i', 2), ('inc', 2), ('lit', 2), ('aso', 2), ('lig', 2), ('ht,', 2), ('kne', 2), ('g o', 2), ('spa', 2), ('d e', 2), ('us,', 2), ('l g', 2), ('goi', 2), ('oin', 2), ('g d', 2), ('eav', 2), ('hor', 2), ('ort', 2), ('pre', 2), ('sen', 2), ('od,', 2), ('isi', 2), ('aut', 2), ('ori', 2), ('tie', 2), ('sis', 2), ('bei', 2), ('ein', 2), ('cei', 2), ('eiv', 2), ('ed,', 2), ('r g', 2), ('goo', 2), ('l, ', 2), ('sup', 2), ('upe', 2), ('ee ', 2), ('iso', 2), ('onl', 2), ('nly', 2), ('. t', 2), (' ki', 2), ('g w', 2), ('a l', 2), ('w a', 2), ('a q', 2), (' qu', 2), ('uee', 2), ('a p', 2), ('a f', 2), ('ce.', 2), ('n b', 2), ('h c', 2), ('cou', 2), ('unt', 2), ('ntr', 2), (' cl', 2), ('cle', 2), ('are', 2), ('tal', 2), ('tat', 2), ('loa', 2), ('ngs', 2), ('ner', 2), ('era', 2), ('set', 2), ('ttl', 2), ('tle', 2), ('er.', 2), ('r. ', 2), ('e y', 2), ('f o', 2), ('ur ', 2), ('ve.', 2), ('. s', 2), ('tua', 2), ('ual', 2), ('rev', 2), ('ela', 2), ('ede', 2), ('o e', 2), ('t f', 2), ('fav', 2), ('avo', 2), ('vou', 2), ('. m', 2), ('rs.', 2), (' bl', 2), ('irt', 2), ('rth', 2), ('hom', 2), ('eti', 2), ('ic ', 2), ('lif', 2), ('gua', 2), ('uar', 2), ('sub', 2), ('ubl', 2), ('bli', 2), (' ap', 2), ('pea', 2), ('ara', 2), ('unc', 2), ('nci', 2), ('cin', 2), (' ar', 2), ('arr', 2), ('eme', 2), ('mad', 2), ('llo', 2), ('low', 2), ('owi', 2), ('g u', 2), ('up ', 2), ('wes', 2), ('stm', 2), ('tmi', 2), ('. e', 2), ('coc', 2), ('ock', 2), ('ck-', 2), ('k-l', 2), ('-la', 2), ('ost', 2), ('bee', 2), ('n l', 2), ('aid', 2), ('doz', 2), ('oze', 2), ('zen', 2), (' af', 2), ('aft', 2), ('fte', 2), ('rap', 2), ('pin', 2), ('ssa', 2), ('sag', 2), ('ges', 2), ('s v', 2), (' ve', 2), ('y y', 2), ('nat', 2), ('y d', 2), ('fic', 2), ('ici', 2), ('rig', 2), ('ina', 2), ('ali', 2), ('d l', 2), ('sh ', 2), ('cro', 2), ('peo', 2), ('eop', 2), ('opl', 2), ('ple', 2), (' br', 2), ('bri', 2), ('hav', 2), ('mor', 2), ('hum', 2), ('uma', 2), ('n r', 2), ('rac', 2), ('omm', 2), ('mmu', 2), ('mun', 2), ('uni', 2), ('nic', 2), ('et ', 2), ('chi', 2), ('ken', 2), ('d. ', 2), (', l', 2), ('hol', 2), ('o m', 2), ('tte', 2), ('ld ', 2), ('ide', 2), ('eed', 2), ('din', 2), (' sm', 2), ('oot', 2), ('s d', 2), ('hil', 2), ('mak', 2), ('aki', 2), ('pen', 2), ('t. ', 2), ('nde', 2), ('r c', 2), ('chr', 2), ('n p', 2), ('rse', 2), ('h h', 2), ('iev', 2), ('ten', 2), ('g a', 2), ('off', 2), ('h p', 2), ('cer', 2), ('bod', 2), ('ody', 2), ('y b', 2), ('liv', 2), ('cau', 2), (' kn', 2), ('ele', 2), ('rai', 2), ('a d', 2), ('roc', 2), ('f m', 2), ('ks ', 2), ('ass', 2), ('six', 2), (' is', 2), ('s l', 2), ('kel', 2), ('y e', 2), ('ods', 2), ('tre', 2), ('hen', 2), ('ffe', 2), ('fer', 2), (' pu', 2), ('th,', 2), ('alr', 2), ('lre', 2), ('ady', 2), ('y m', 2), ('rke', 2), ('ked', 2), ('nto', 2), ('boa', 2), ('ds,', 2), ('mov', 2), ('k w', 2), ('nif', 2), ('rri', 2), ('o p', 2), (' ru', 2), ('h r', 2), (' sn', 2), (' ab', 2), ('abo', 2), ('bou', 2), ('t b', 2), ('gs,', 2), (' po', 2), ('rt ', 2), ('ls ', 2), ('uti', 2), ('ly,', 2), ('len', 2), ('cio', 2), (' aw', 2), ('awa', 2), ('nd,', 2), ('arc', 2), ('cel', 2), ('tin', 2), ('ber', 2), ('cap', 2), ('lf ', 2), ('icl', 2), ('vin', 2), ('nit', 2), ('ols', 2), ('cur', 2), ('aym', 2), ('yma', 2), ('rad', 2), ('esm', 2), ('gni', 2), ('cha', 2), ('hal', 2), ('ell', 2), (' ga', 2), ('lla', 2), ('him', 2), ('rod', 2), ('ay;', 2), ('mai', 2), ('il ', 2), ('t d', 2), ('fou', 2), ('equ', 2), ('s r', 2), ('bed', 2), ('e; ', 2), ('iou', 2), ('ret', 2), (' ba', 2), ('bus', 2), ('oad', 2), ('ll;', 2), ('l; ', 2), (' ne', 2), ('nob', 2), ('s; ', 2), ('mob', 2), ('ngi', 2), ('a h', 2), ('urd', 2), (' ta', 2), ('tak', 2), ('nin', 2), ('ow ', 2), ('to-', 2), ('tro', 2), (' tw', 2), ('two', 2), ('wo ', 2), ('ads', 2), ('rst', 1), ('wis', 1), ('isd', 1), ('sdo', 1), ('dom', 1), ('om,', 1), ('foo', 1), ('ool', 1), ('oli', 1), ('shn', 1), ('bel', 1), ('ief', 1), ('ef,', 1), ('ncr', 1), ('edu', 1), ('dul', 1), ('uli', 1), ('ty,', 1), ('rkn', 1), ('spr', 1), ('hop', 1), ('ope', 1), ('pe,', 1), ('pai', 1), ('ir,', 1), ('ryt', 1), ('yth', 1), ('ay-', 1), ('y- ', 1), ('- i', 1), ('rt,', 1), ('so ', 1), ('o f', 1), ('s n', 1), ('noi', 1), ('ois', 1), ('sie', 1), (' au', 1), ('nsi', 1), ('evi', 1), ('vil', 1), ('il,', 1), ('erl', 1), ('rla', 1), ('tiv', 1), ('deg', 1), ('egr', 1), ('f c', 1), ('omp', 1), ('mpa', 1), ('ly.', 1), ('n f', 1), ('nd;', 1), ('d; ', 1), ('bot', 1), ('lea', 1), ('cry', 1), ('rys', 1), ('yst', 1), ('ser', 1), ('erv', 1), ('rve', 1), ('oav', 1), ('fis', 1), ('gs ', 1), (' ge', 1), ('gen', 1), ('ene', 1), ('ett', 1), ('l r', 1), ('vel', 1), ('onc', 1), ('ced', 1), ('is.', 1), (' mr', 1), ('mrs', 1), ('sou', 1), ('thc', 1), ('hco', 1), ('cot', 1), ('ott', 1), ('tt ', 1), ('tta', 1), ('ve-', 1), ('e-a', 1), ('-an', 1), ('nd-', 1), ('d-t', 1), ('-tw', 1), ('twe', 1), ('nti', 1), ('iet', 1), ('eth', 1), ('h b', 1), (' bi', 1), ('bir', 1), ('thd', 1), ('hda', 1), ('rop', 1), ('oph', 1), ('phe', 1), ('het', 1), ('c p', 1), ('riv', 1), ('iva', 1), ('vat', 1), ('ald', 1), ('lde', 1), ('lim', 1), ('ann', 1), ('nno', 1), ('rra', 1), ('gem', 1), (' sw', 1), ('swa', 1), ('wal', 1), ('p o', 1), (' gh', 1), ('gho', 1), ('a r', 1), ('f y', 1), ('ars', 1), ('r r', 1), ('ppi', 1), ('las', 1), ('t (', 1), (' (s', 1), ('(su', 1), ('ern', 1), ('rna', 1), ('ura', 1), ('lly', 1), ('def', 1), ('efi', 1), ('cie', 1), ('ien', 1), ('igi', 1), ('ty)', 1), ('y) ', 1), (') r', 1), ('irs', 1), (' ea', 1), ('thl', 1), ('hly', 1), ('tel', 1), ('gli', 1), ('le,', 1), ('ngr', 1), ('tis', 1), ('ubj', 1), ('bje', 1), ('jec', 1), ('cts', 1), ('ric', 1), ('ca:', 1), ('a: ', 1), (': w', 1), ('ch,', 1), ('o r', 1), ('rel', 1), ('rov', 1), ('ove', 1), (' im', 1), ('imp', 1), ('mpo', 1), ('por', 1), ('cat', 1), ('s y', 1), ('yet', 1), ('ick', 1), ('cke', 1), ('ens', 1), ('bro', 1), ('od.', 1), ('. f', 1), (' le', 1), ('ole', 1), ('mat', 1), ('shi', 1), ('iel', 1), ('eld', 1), ('rid', 1), ('den', 1), ('nt,', 1), ('rol', 1), ('oll', 1), ('h e', 1), (' ex', 1), ('exc', 1), ('xce', 1), ('cee', 1), ('edi', 1), ('g s', 1), ('smo', 1), ('moo', 1), ('thn', 1), ('ll,', 1), (', m', 1), ('pap', 1), ('ape', 1), ('r m', 1), ('ney', 1), ('spe', 1), ('end', 1), ('ndi', 1), ('g i', 1), ('it.', 1), ('. u', 1), ('gui', 1), ('uid', 1), ('ida', 1), ('dan', 1), ('hri', 1), ('tia', 1), ('ian', 1), ('lf,', 1), ('esi', 1), ('sid', 1), ('suc', 1), (' ac', 1), ('ach', 1), ('vem', 1), ('a y', 1), (' yo', 1), ('you', 1), (' cu', 1), ('cut', 1), ('ff,', 1), ('ton', 1), ('ngu', 1), ('gue', 1), ('ue ', 1), ('orn', 1), ('rn ', 1), ('rne', 1), ('ve,', 1), ('bec', 1), ('eca', 1), ('aus', 1), ('t k', 1), ('nee', 1), ('eel', 1), ('do ', 1), ('hon', 1), ('ono', 1), ('o a', 1), ('rty', 1), ('oce', 1), ('ssi', 1), ('sio', 1), ('onk', 1), ('nks', 1), (' vi', 1), ('vie', 1), ('iew', 1), ('ew,', 1), ('dis', 1), ('fif', 1), ('ift', 1), ('fty', 1), ('ixt', 1), ('xty', 1), (' ya', 1), ('yar', 1), ('ds.', 1), ('at,', 1), ('nor', 1), ('orw', 1), ('rwa', 1), ('gro', 1), ('ees', 1), ('whe', 1), ('suf', 1), ('s p', 1), ('put', 1), ('mar', 1), ('fat', 1), ('o c', 1), ('saw', 1), ('awn', 1), ('oar', 1), (' ce', 1), ('n m', 1), ('ova', 1), ('vab', 1), ('abl', 1), ('ram', 1), ('mew', 1), ('ewo', 1), ('a s', 1), ('sac', 1), ('ack', 1), ('ck ', 1), ('k a', 1), ('kni', 1), ('it,', 1), (' te', 1), ('err', 1), ('rib', 1), ('ibl', 1), ('ory', 1), ('ry.', 1), ('til', 1), ('ler', 1), ('avy', 1), ('vy ', 1), ('y l', 1), (' ad', 1), ('adj', 1), ('dja', 1), ('jac', 1), ('is,', 1), ('hel', 1), ('elt', 1), ('lte', 1), ('wea', 1), ('t v', 1), ('rud', 1), ('ude', 1), ('rts', 1), ('ts,', 1), ('pat', 1), ('rus', 1), ('c m', 1), ('mir', 1), ('re,', 1), ('snu', 1), ('nuf', 1), ('fed', 1), ('pig', 1), ('igs', 1), ('oos', 1), ('pou', 1), ('oul', 1), ('ult', 1), ('ltr', 1), ('try', 1), ('ry,', 1), (', d', 1), ('apa', 1), ('tum', 1), ('umb', 1), ('mbr', 1), ('ril', 1), ('ils', 1), ('evo', 1), ('vol', 1), ('olu', 1), ('lut', 1), ('on.', 1), ('n. ', 1), ('. b', 1), ('but', 1), ('k u', 1), ('cea', 1), ('asi', 1), ('sin', 1), ('gly', 1), ('k s', 1), ('sil', 1), ('no ', 1), ('em ', 1), ('h m', 1), ('muf', 1), ('ffl', 1), ('fle', 1), ('ad:', 1), ('d: ', 1), (': t', 1), ('rat', 1), ('ora', 1), ('ras', 1), ('asm', 1), ('smu', 1), ('sus', 1), ('usp', 1), ('pic', 1), ('wak', 1), ('ke,', 1), ('eis', 1), ('cal', 1), ('l a', 1), ('ait', 1), ('ito', 1), ('oro', 1), ('us.', 1), ('n e', 1), (' sc', 1), ('sca', 1), ('rce', 1), ('mou', 1), ('r a', 1), ('rot', 1), ('tec', 1), ('cti', 1), ('o j', 1), (' ju', 1), ('jus', 1), ('tif', 1), ('ify', 1), ('fy ', 1), ('h n', 1), (' na', 1), ('ona', 1), ('l b', 1), ('oas', 1), ('ng.', 1), ('g. ', 1), ('. d', 1), ('urg', 1), ('rgl', 1), ('med', 1), ('y r', 1), ('too', 1), ('ook', 1), ('ok ', 1), ('k p', 1), ('lac', 1), ('api', 1), ('pit', 1), ('ita', 1), ('l i', 1), ('tse', 1), ('y n', 1), (' ni', 1), ('nig', 1), ('ht;', 1), ('t; ', 1), ('; f', 1), ('fam', 1), ('ami', 1), ('mil', 1), ('ili', 1), ('pub', 1), ('lic', 1), ('cly', 1), ('o g', 1), ('go ', 1), ('tow', 1), ('rem', 1), ('emo', 1), ('ovi', 1), (' fu', 1), ('fur', 1), ('o u', 1), ('uph', 1), ('pho', 1), ('lst', 1), (\"rs'\", 1), (\"s' \", 1), (\"' w\", 1), ('war', 1), ('reh', 1), ('eho', 1), ('sec', 1), ('ecu', 1), ('uri', 1), ('ty;', 1), (' ci', 1), ('cit', 1), ('eco', 1), ('cog', 1), ('ogn', 1), ('nis', 1), ('ise', 1), ('ged', 1), ('y h', 1), (' fe', 1), ('fel', 1), ('ow-', 1), ('w-t', 1), ('-tr', 1), ('m h', 1), ('top', 1), ('opp', 1), ('har', 1), ('act', 1), ('cte', 1), ('apt', 1), ('pta', 1), ('in,', 1), (', g', 1), ('gal', 1), ('im ', 1), ('ode', 1), ('ayl', 1), ('yla', 1), ('hre', 1), ('ad,', 1), ('got', 1), ('ims', 1), ('mse', 1), ('ur,', 1), ('nse', 1), ('seq', 1), ('uen', 1), ('ilu', 1), ('lur', 1), ('amm', 1), ('on:', 1), ('n: ', 1), (': a', 1), ('eac', 1), ('ce;', 1), ('t m', 1), ('mag', 1), ('agn', 1), ('ifi', 1), ('ice', 1), ('pot', 1), ('nta', 1), ('may', 1), ('ayo', 1), ('yor', 1), ('on,', 1), ('del', 1), ('rnh', 1), ('nha', 1), ('ham', 1), ('am ', 1), ('m g', 1), ('spo', 1), ('poi', 1), ('oil', 1), (' il', 1), ('llu', 1), ('lus', 1), ('sig', 1), ('l h', 1), ('inu', 1), ('nue', 1), ('ue;', 1), ('; p', 1), ('gao', 1), ('aol', 1), ('bat', 1), ('rnk', 1), ('nke', 1), ('key', 1), ('eys', 1), ('ys,', 1), ('maj', 1), ('aje', 1), ('jes', 1), ('sty', 1), ('law', 1), ('w f', 1), ('blu', 1), ('lun', 1), ('erb', 1), ('rbu', 1), ('uss', 1), ('bal', 1), ('sni', 1), ('nip', 1), ('ipp', 1), ('ff ', 1), ('dia', 1), ('iam', 1), ('ros', 1), ('oss', 1), ('e n', 1), ('nec', 1), ('eck', 1), ('cks', 1), ('f n', 1), ('obl', 1), ('t c', 1), ('urt', 1), (' dr', 1), ('dra', 1), ('raw', 1), ('awi', 1), ('ng-', 1), ('g-r', 1), ('-ro', 1), ('oom', 1), ('oms', 1), ('ms;', 1), ('; m', 1), ('st.', 1), ('. g', 1), (' gi', 1), ('gil', 1), (\"es'\", 1), (\"s's\", 1), (\"'s,\", 1), ('rch', 1), ('h f', 1), ('ont', 1), ('rab', 1), ('aba', 1), ('ban', 1), ('d g', 1), ('ob ', 1), ('b f', 1), ('ob,', 1), ('b, ', 1), ('obo', 1), (' oc', 1), ('occ', 1), ('ccu', 1), ('urr', 1), ('rre', 1), ('ren', 1), ('mmo', 1), ('ay.', 1), ('mid', 1), ('ids', 1), ('dst', 1), ('ngm', 1), ('gma', 1), (', e', 1), ('r b', 1), ('usy', 1), ('sy ', 1), ('n u', 1), ('req', 1), ('qui', 1), ('uis', 1), ('sit', 1), ('on;', 1), ('n; ', 1), ('p l', 1), ('ows', 1), ('ws ', 1), ('mis', 1), ('isc', 1), ('sce', 1), ('neo', 1), ('eou', 1), ('cri', 1), ('rim', 1), ('imi', 1), ('als', 1), ('ls;', 1), ('seb', 1), ('ebr', 1), ('bre', 1), ('eak', 1), ('ker', 1), ('sat', 1), ('rda', 1), ('tue', 1), ('ues', 1), ('esd', 1), ('sda', 1), ('t n', 1), ('new', 1), ('ewg', 1), ('wga', 1), ('gat', 1), ('w b', 1), ('pam', 1), ('amp', 1), ('mph', 1), ('phl', 1), ('hle', 1), ('let', 1), ('ets', 1), ('doo', 1), ('oor', 1), ('r h', 1), ('o-d', 1), ('-da', 1), ('atr', 1), ('oci', 1), ('mur', 1), ('o-m', 1), ('-mo', 1), ('orr', 1), ('rro', 1), ('w o', 1), ('a w', 1), (' wr', 1), ('wre', 1), ('etc', 1), ('tch', 1), ('che', 1), ('hed', 1), ('pil', 1), ('ilf', 1), ('lfe', 1), (\"er'\", 1), (\"r's\", 1), (\"'s \", 1), ('boy', 1), ('oy ', 1), ('ixp', 1), ('xpe', 1), ('. a', 1), ('a t', 1), (', c', 1), ('cam', 1), ('clo', 1), ('los', 1), ('upo', 1), ('pon', 1), (' ol', 1), ('old', 1), ('d y', 1), ('env', 1), ('nvi', 1), ('vir', 1), ('iro', 1), ('d u', 1), ('unh', 1), ('nhe', 1), ('hee', 1), ('aws', 1), ('ws,', 1), ('tir', 1), ('gh,', 1), ('ied', 1), ('r d', 1), ('div', 1), ('ivi', 1), (' ri', 1), ('hts', 1), ('nd.', 1), ('thu', 1), ('hus', 1), ('did', 1), ('ndu', 1), ('duc', 1), ('uct', 1), ('atn', 1), ('tne', 1), (' my', 1), ('myr', 1), ('yri', 1), ('ria', 1), ('iad', 1), ('mal', 1), ('l c', 1), ('es-', 1), ('s-t', 1), ('-th', 1), ('oni', 1), ('st-', 1), ('t-a', 1), ('-al', 1), ('alo', 1), ('roa', 1), ('t l', 1), ('lay', 1)]\n",
      " th 136\n"
     ]
    }
   ],
   "source": [
    "# Code for question 3\n",
    "start = 0\n",
    "end = 3\n",
    "d = {}\n",
    "while end < len(text):\n",
    "    sub = text[start:end]\n",
    "    if sub not in d:\n",
    "        d[sub] = 0\n",
    "    d[sub] += 1\n",
    "    start += 1\n",
    "    end += 1\n",
    "    \n",
    "q3_2 = 0\n",
    "# l = [(k,v) for k,v in d.items()]\n",
    "# l.sort(key = lambda x:-x[1])\n",
    "# print(l)\n",
    "for key in d:\n",
    "    if d[key] > q3_2:\n",
    "        q3_1 = key\n",
    "        q3_2 = d[key]\n",
    "        \n",
    "# print(q3_1,q3_2)"
   ]
  },
  {
   "cell_type": "markdown",
   "metadata": {
    "id": "WKAgWo2bo4De"
   },
   "source": [
    "## Part 2: Rides\n",
    "\n",
    "The [boston.csv](boston.csv) file contains data on weekday Uber rides in the Boston, Massachusetts metropolitan areas from the [Uber Movement](https://movement.uber.com) project. The `sourceid` and `dstid` columns contain codes corresponding to start and end locations of each ride. The `hod` column contains codes corresponding to the hour of the day the ride took place. The `ride time` column contains the length of the ride, in minutes.\n",
    "\n",
    "The code below will open the file and read the data as a list of rows, with each row represented as a string. It then prints the first four rows. Note that the first (index 0) row contains the column headers."
   ]
  },
  {
   "cell_type": "code",
   "execution_count": 27,
   "metadata": {
    "id": "RQeIb4MZo4Df"
   },
   "outputs": [
    {
     "name": "stdout",
     "output_type": "stream",
     "text": [
      "sourceid,dstid,hod,ride time\n",
      "\n",
      "584,33,7,11.866000000000001\n",
      "\n",
      "1013,1116,13,17.799333333333333\n",
      "\n",
      "884,1190,22,19.348833333333335\n",
      "\n"
     ]
    }
   ],
   "source": [
    "f = open('boston.csv')\n",
    "data = f.readlines()\n",
    "f.close()\n",
    "for row in data[:4]:\n",
    "    print(row)"
   ]
  },
  {
   "cell_type": "markdown",
   "metadata": {
    "deletable": false,
    "editable": false,
    "id": "rqvFNhgNo4Df"
   },
   "source": [
    "### Question 4\n",
    "In the variable `q4` place how many rides are listed in the the file.\n",
    "<!--\n",
    "BEGIN QUESTION\n",
    "name: q4\n",
    "manual: false\n",
    "points:\n",
    "    - 1.0\n",
    "    - 1.0\n",
    "-->"
   ]
  },
  {
   "cell_type": "code",
   "execution_count": 49,
   "metadata": {
    "id": "HEtjYm_Go4Df"
   },
   "outputs": [],
   "source": [
    "# Code for question 4\n",
    "\n",
    "q4 = len(data)-1"
   ]
  },
  {
   "cell_type": "markdown",
   "metadata": {
    "deletable": false,
    "editable": false,
    "id": "0eNtEUPFo4Dg"
   },
   "source": [
    "### Question 5\n",
    "In the variable `q5` place the length of the longest ride.\n",
    "<!--\n",
    "BEGIN QUESTION\n",
    "name: q5\n",
    "manual: false\n",
    "points:\n",
    "    - 1.0\n",
    "    - 1.0\n",
    "-->"
   ]
  },
  {
   "cell_type": "code",
   "execution_count": 54,
   "metadata": {
    "id": "YqLWNvp1o4Dg"
   },
   "outputs": [
    {
     "name": "stdout",
     "output_type": "stream",
     "text": [
      "1471.9861666666666\n"
     ]
    }
   ],
   "source": [
    "# Code for question 5\n",
    "q5 = 0\n",
    "totaltime = 0\n",
    "under10 = 0\n",
    "hodTracker = [0,0,0,0,0,0,0,0,0,0,0,0,\n",
    "             0,0,0,0,0,0,0,0,0,0,0,0]\n",
    "startlocations = {}\n",
    "\n",
    "for line in data[1:]:\n",
    "    numbers_str = line.split(\",\")\n",
    "    ridetime = float(numbers_str[3])\n",
    "    hod = int(numbers_str[2])\n",
    "    startlocation = int(numbers_str[0])\n",
    "\n",
    "#     q5\n",
    "    if ridetime > q5:\n",
    "        q5 = ridetime\n",
    "#     q6\n",
    "    totaltime += ridetime\n",
    "#     q7\n",
    "    if ridetime < 10:\n",
    "        under10 += 1\n",
    "#     q8\n",
    "    hodTracker[hod] += 1\n",
    "#     q9\n",
    "    if startlocation not in startlocations:\n",
    "        startlocations[startlocation] = 0\n",
    "    startlocations[startlocation] += 1\n",
    "    \n",
    "print(q5)\n"
   ]
  },
  {
   "cell_type": "markdown",
   "metadata": {
    "deletable": false,
    "editable": false,
    "id": "QsCknTx5o4Dg"
   },
   "source": [
    "### Question 6\n",
    "In the variable `q6` place the average length of a ride.\n",
    "<!--\n",
    "BEGIN QUESTION\n",
    "name: q6\n",
    "manual: false\n",
    "points:\n",
    "    - 1.0\n",
    "    - 1.0\n",
    "-->"
   ]
  },
  {
   "cell_type": "code",
   "execution_count": 55,
   "metadata": {
    "id": "W9iYs7Pdo4Dh"
   },
   "outputs": [],
   "source": [
    "# Code for question 6\n",
    "q6 = totaltime/(len(data)-1)"
   ]
  },
  {
   "cell_type": "markdown",
   "metadata": {
    "deletable": false,
    "editable": false,
    "id": "jOvFbcz3o4Dh"
   },
   "source": [
    "### Question 7\n",
    "In the variable `q7` place the percent of rides are under 10 minutes. The percent should be between 0 and 1.\n",
    "<!--\n",
    "BEGIN QUESTION\n",
    "name: q7\n",
    "manual: false\n",
    "points:\n",
    "    - 2.0\n",
    "    - 2.0\n",
    "-->"
   ]
  },
  {
   "cell_type": "code",
   "execution_count": 56,
   "metadata": {
    "id": "QfbCg78No4Dh"
   },
   "outputs": [],
   "source": [
    "# Code for question 7\n",
    "q7 = under10/(len(data)-1)"
   ]
  },
  {
   "cell_type": "markdown",
   "metadata": {
    "deletable": false,
    "editable": false,
    "id": "bdQod72Fo4Dh"
   },
   "source": [
    "### Question 8\n",
    "For each HOD (hour of day), count how many rides take place during that hour. Put it in a list where index 0 has the number of rides where `hod` was 0, at index 1 where `hod` was 1, etc. until index 23. This means your list will be 24 long. Put this list in a variable called `q8`.\n",
    "<!--\n",
    "BEGIN QUESTION\n",
    "name: q8\n",
    "manual: false\n",
    "points:\n",
    "    - 1.0\n",
    "    - 1.0\n",
    "    - 2.0\n",
    "-->"
   ]
  },
  {
   "cell_type": "code",
   "execution_count": 57,
   "metadata": {
    "id": "L38rB4jTo4Di"
   },
   "outputs": [],
   "source": [
    "# Code for question 8\n",
    "q8 = hodTracker"
   ]
  },
  {
   "cell_type": "markdown",
   "metadata": {
    "deletable": false,
    "editable": false,
    "id": "Xw04N0DRo4Di"
   },
   "source": [
    "### Question 9\n",
    "What are the three most common **start** locations (`sourceid`) for rides in the dataset? You may find the built-in Python `sorted` function helpful; it's usage is described in https://docs.python.org/3/howto/sorting.html.\n",
    "\n",
    "Place your answer in the variable `q9` sorted with the most common location first.\n",
    "<!--\n",
    "BEGIN QUESTION\n",
    "name: q9\n",
    "manual: false\n",
    "points:\n",
    "    - 0.5\n",
    "    - 0.5\n",
    "    - 1.0\n",
    "    - 2.0\n",
    "-->"
   ]
  },
  {
   "cell_type": "code",
   "execution_count": 75,
   "metadata": {
    "id": "RLX6FWTBo4Di"
   },
   "outputs": [
    {
     "name": "stdout",
     "output_type": "stream",
     "text": [
      "['885', '498', '435']\n"
     ]
    }
   ],
   "source": [
    "# Code for question 9\n",
    "l = [(k,v) for k,v in startlocations.items()]\n",
    "l.sort(key = lambda x:-x[1])\n",
    "q9 = [str(k[0]) for k in l[0:3]]\n",
    "print(q9)"
   ]
  },
  {
   "cell_type": "markdown",
   "metadata": {
    "id": "H21jBTaWo4Di"
   },
   "source": [
    "## Submitting\n",
    "\n",
    "You should make sure any code that you write to answer the questions is included in this notebook. We recommend you go to the Kernel option and choose \\\"Restart & Run All.\\\" Double check that your entire notebook runs correctly and generates the expected output. Finally, make sure to save your work (timestamp at the top tells you the last checkpoint and whether there are unsaved changes). When you finish, submit your assignment at [Gradescope](http://gradescope.com/)."
   ]
  }
 ],
 "metadata": {
  "colab": {
   "collapsed_sections": [],
   "name": "homework1.ipynb",
   "provenance": []
  },
  "kernelspec": {
   "display_name": "Python 3 (ipykernel)",
   "language": "python",
   "name": "python3"
  },
  "language_info": {
   "codemirror_mode": {
    "name": "ipython",
    "version": 3
   },
   "file_extension": ".py",
   "mimetype": "text/x-python",
   "name": "python",
   "nbconvert_exporter": "python",
   "pygments_lexer": "ipython3",
   "version": "3.9.7"
  }
 },
 "nbformat": 4,
 "nbformat_minor": 1
}
