{
 "cells": [
  {
   "cell_type": "markdown",
   "metadata": {
    "id": "73uhyQF7k-W7"
   },
   "source": [
    "# Homework 09\n",
    "\n",
    "In this exercise, you will demonstrate your learning of prediction, including regression and classification, using the [scikit-learn library](https://scikit-learn.org/stable/index.html). Note that scikit-learn is included in the Anaconda distribution, so you should not need to install anything new to use it.\n",
    "\n",
    "Show your work (code or otherwise) and/or briefly explain your answers. In general you will not receive full credit for numeric answers with no accompanying work or justification (math, code, explanation). For numeric answers, we will round your answer to at most the nearest 0.001, depending on the number.\n",
    "\n",
    "When you finish please go to Kernel --> Restart and Run All, and then double check that your notebook looks correct before submitting your .ipynb file (the notebook file) on gradescope."
   ]
  },
  {
   "cell_type": "code",
   "execution_count": 1,
   "metadata": {
    "id": "45gVkK3Tk-XA"
   },
   "outputs": [],
   "source": [
    "# Run this code cell to import relevant libraries\n",
    "\n",
    "import numpy as np\n",
    "import pandas as pd\n",
    "import seaborn as sns"
   ]
  },
  {
   "cell_type": "markdown",
   "metadata": {
    "id": "qAa-G4Wfk-XB"
   },
   "source": [
    "### Question 1\n",
    "Below we import the `tips` dataset containing information from several meals in a particular restaurant. We preview the first few rows."
   ]
  },
  {
   "cell_type": "code",
   "execution_count": 2,
   "metadata": {
    "id": "E3sBT4bRk-XC"
   },
   "outputs": [
    {
     "name": "stdout",
     "output_type": "stream",
     "text": [
      "(244, 7)\n"
     ]
    },
    {
     "data": {
      "text/html": [
       "<div>\n",
       "<style scoped>\n",
       "    .dataframe tbody tr th:only-of-type {\n",
       "        vertical-align: middle;\n",
       "    }\n",
       "\n",
       "    .dataframe tbody tr th {\n",
       "        vertical-align: top;\n",
       "    }\n",
       "\n",
       "    .dataframe thead th {\n",
       "        text-align: right;\n",
       "    }\n",
       "</style>\n",
       "<table border=\"1\" class=\"dataframe\">\n",
       "  <thead>\n",
       "    <tr style=\"text-align: right;\">\n",
       "      <th></th>\n",
       "      <th>total_bill</th>\n",
       "      <th>tip</th>\n",
       "      <th>sex</th>\n",
       "      <th>smoker</th>\n",
       "      <th>day</th>\n",
       "      <th>time</th>\n",
       "      <th>size</th>\n",
       "    </tr>\n",
       "  </thead>\n",
       "  <tbody>\n",
       "    <tr>\n",
       "      <th>0</th>\n",
       "      <td>16.99</td>\n",
       "      <td>1.01</td>\n",
       "      <td>Female</td>\n",
       "      <td>No</td>\n",
       "      <td>Sun</td>\n",
       "      <td>Dinner</td>\n",
       "      <td>2</td>\n",
       "    </tr>\n",
       "    <tr>\n",
       "      <th>1</th>\n",
       "      <td>10.34</td>\n",
       "      <td>1.66</td>\n",
       "      <td>Male</td>\n",
       "      <td>No</td>\n",
       "      <td>Sun</td>\n",
       "      <td>Dinner</td>\n",
       "      <td>3</td>\n",
       "    </tr>\n",
       "    <tr>\n",
       "      <th>2</th>\n",
       "      <td>21.01</td>\n",
       "      <td>3.50</td>\n",
       "      <td>Male</td>\n",
       "      <td>No</td>\n",
       "      <td>Sun</td>\n",
       "      <td>Dinner</td>\n",
       "      <td>3</td>\n",
       "    </tr>\n",
       "    <tr>\n",
       "      <th>3</th>\n",
       "      <td>23.68</td>\n",
       "      <td>3.31</td>\n",
       "      <td>Male</td>\n",
       "      <td>No</td>\n",
       "      <td>Sun</td>\n",
       "      <td>Dinner</td>\n",
       "      <td>2</td>\n",
       "    </tr>\n",
       "    <tr>\n",
       "      <th>4</th>\n",
       "      <td>24.59</td>\n",
       "      <td>3.61</td>\n",
       "      <td>Female</td>\n",
       "      <td>No</td>\n",
       "      <td>Sun</td>\n",
       "      <td>Dinner</td>\n",
       "      <td>4</td>\n",
       "    </tr>\n",
       "  </tbody>\n",
       "</table>\n",
       "</div>"
      ],
      "text/plain": [
       "   total_bill   tip     sex smoker  day    time  size\n",
       "0       16.99  1.01  Female     No  Sun  Dinner     2\n",
       "1       10.34  1.66    Male     No  Sun  Dinner     3\n",
       "2       21.01  3.50    Male     No  Sun  Dinner     3\n",
       "3       23.68  3.31    Male     No  Sun  Dinner     2\n",
       "4       24.59  3.61  Female     No  Sun  Dinner     4"
      ]
     },
     "execution_count": 2,
     "metadata": {},
     "output_type": "execute_result"
    }
   ],
   "source": [
    "# Run but do not modify this code\n",
    "\n",
    "tips = sns.load_dataset(\"tips\")\n",
    "print(tips.shape)\n",
    "tips.head()"
   ]
  },
  {
   "cell_type": "markdown",
   "metadata": {
    "id": "P7vjScuPk-XC"
   },
   "source": [
    "We are interested in modeling `tip` as a function of `total_bill` and `size`. Use scikit-learn to perform linear regression to model `tip` as a function of `total_bill` and `size`. Once you have fit the model, obtain the model predictions and compare them to the real `tip`. Compute both the MSE (mean squared error) and the r^2 score (the square of Pearson's correlation coefficient). Report the MSE in `q1_mse` and r^2 score in `q1_r2`, both are float/np.float.\n",
    "\n",
    "Details:\n",
    "- We import the relevant code from `sklearn` for you; you can find the documentation of the functions by searching the [scikit-learn library](https://scikit-learn.org/stable/index.html).\n",
    "- You do not need to split the data into train/test sets for this problem, you can just use the whole dataset.\n",
    "- You can use the default LinearRegression model, i.e., you do not need to pass any parameters to the constructor."
   ]
  },
  {
   "cell_type": "code",
   "execution_count": 11,
   "metadata": {
    "id": "yHZbEZz5k-XD"
   },
   "outputs": [
    {
     "name": "stdout",
     "output_type": "stream",
     "text": [
      "MSE: 1.014564905610028 r^2: 0.46786930879612587\n"
     ]
    }
   ],
   "source": [
    "from sklearn.linear_model import LinearRegression\n",
    "from sklearn.metrics import mean_squared_error\n",
    "from sklearn.metrics import r2_score\n",
    "\n",
    "# Write your code for question 1 here\n",
    "# and store your results in the correct variable names for full credit\n",
    "linmodel = LinearRegression()\n",
    "data=tips[['total_bill','size']].values\n",
    "target=tips['tip'].values\n",
    "linmodel.fit(data,target)\n",
    "\n",
    "\n",
    "q1_mse = mean_squared_error(target,linmodel.predict(data))\n",
    "q1_r2 = r2_score(target,linmodel.predict(data))\n",
    "\n",
    "\n",
    "# Leave this line here to print the result\n",
    "print(\"MSE:\", q1_mse, \"r^2:\", q1_r2)"
   ]
  },
  {
   "cell_type": "markdown",
   "metadata": {
    "id": "F4OQOwGCk-XF"
   },
   "source": [
    "### Question 2\n",
    "Below we import and preview the `penguins` dataset. We have previously modeled the numerical `flipper_length_mm` feature. In this question, we will model the categorical `species` feature."
   ]
  },
  {
   "cell_type": "code",
   "execution_count": 12,
   "metadata": {
    "id": "sq3E35wrk-XF"
   },
   "outputs": [
    {
     "name": "stdout",
     "output_type": "stream",
     "text": [
      "(333, 7)\n"
     ]
    },
    {
     "data": {
      "text/html": [
       "<div>\n",
       "<style scoped>\n",
       "    .dataframe tbody tr th:only-of-type {\n",
       "        vertical-align: middle;\n",
       "    }\n",
       "\n",
       "    .dataframe tbody tr th {\n",
       "        vertical-align: top;\n",
       "    }\n",
       "\n",
       "    .dataframe thead th {\n",
       "        text-align: right;\n",
       "    }\n",
       "</style>\n",
       "<table border=\"1\" class=\"dataframe\">\n",
       "  <thead>\n",
       "    <tr style=\"text-align: right;\">\n",
       "      <th></th>\n",
       "      <th>species</th>\n",
       "      <th>island</th>\n",
       "      <th>bill_length_mm</th>\n",
       "      <th>bill_depth_mm</th>\n",
       "      <th>flipper_length_mm</th>\n",
       "      <th>body_mass_g</th>\n",
       "      <th>sex</th>\n",
       "    </tr>\n",
       "  </thead>\n",
       "  <tbody>\n",
       "    <tr>\n",
       "      <th>0</th>\n",
       "      <td>Adelie</td>\n",
       "      <td>Torgersen</td>\n",
       "      <td>39.1</td>\n",
       "      <td>18.7</td>\n",
       "      <td>181.0</td>\n",
       "      <td>3750.0</td>\n",
       "      <td>Male</td>\n",
       "    </tr>\n",
       "    <tr>\n",
       "      <th>1</th>\n",
       "      <td>Adelie</td>\n",
       "      <td>Torgersen</td>\n",
       "      <td>39.5</td>\n",
       "      <td>17.4</td>\n",
       "      <td>186.0</td>\n",
       "      <td>3800.0</td>\n",
       "      <td>Female</td>\n",
       "    </tr>\n",
       "    <tr>\n",
       "      <th>2</th>\n",
       "      <td>Adelie</td>\n",
       "      <td>Torgersen</td>\n",
       "      <td>40.3</td>\n",
       "      <td>18.0</td>\n",
       "      <td>195.0</td>\n",
       "      <td>3250.0</td>\n",
       "      <td>Female</td>\n",
       "    </tr>\n",
       "    <tr>\n",
       "      <th>4</th>\n",
       "      <td>Adelie</td>\n",
       "      <td>Torgersen</td>\n",
       "      <td>36.7</td>\n",
       "      <td>19.3</td>\n",
       "      <td>193.0</td>\n",
       "      <td>3450.0</td>\n",
       "      <td>Female</td>\n",
       "    </tr>\n",
       "    <tr>\n",
       "      <th>5</th>\n",
       "      <td>Adelie</td>\n",
       "      <td>Torgersen</td>\n",
       "      <td>39.3</td>\n",
       "      <td>20.6</td>\n",
       "      <td>190.0</td>\n",
       "      <td>3650.0</td>\n",
       "      <td>Male</td>\n",
       "    </tr>\n",
       "  </tbody>\n",
       "</table>\n",
       "</div>"
      ],
      "text/plain": [
       "  species     island  bill_length_mm  bill_depth_mm  flipper_length_mm  \\\n",
       "0  Adelie  Torgersen            39.1           18.7              181.0   \n",
       "1  Adelie  Torgersen            39.5           17.4              186.0   \n",
       "2  Adelie  Torgersen            40.3           18.0              195.0   \n",
       "4  Adelie  Torgersen            36.7           19.3              193.0   \n",
       "5  Adelie  Torgersen            39.3           20.6              190.0   \n",
       "\n",
       "   body_mass_g     sex  \n",
       "0       3750.0    Male  \n",
       "1       3800.0  Female  \n",
       "2       3250.0  Female  \n",
       "4       3450.0  Female  \n",
       "5       3650.0    Male  "
      ]
     },
     "execution_count": 12,
     "metadata": {},
     "output_type": "execute_result"
    }
   ],
   "source": [
    "# Run but do not modify this code\n",
    "# Only 11 penguins out of over 300 are missing any data;\n",
    "# we simply drop those here\n",
    "penguins = sns.load_dataset(\"penguins\").dropna()\n",
    "print(penguins.shape)\n",
    "penguins.head()"
   ]
  },
  {
   "cell_type": "markdown",
   "metadata": {
    "id": "5JkBfqBRk-XG"
   },
   "source": [
    "To begin, we hold out 70% of the data randomly as a test set."
   ]
  },
  {
   "cell_type": "code",
   "execution_count": 40,
   "metadata": {
    "id": "CtmQaWk7k-XG"
   },
   "outputs": [],
   "source": [
    "# Run but do not modify this code\n",
    "\n",
    "from sklearn.model_selection import train_test_split\n",
    "\n",
    "q2_data = penguins.drop(columns=[\"species\"])\n",
    "q2_target = penguins[\"species\"]\n",
    "q2_train_data, q2_test_data, q2_train_target, q2_test_target = train_test_split(\n",
    "    q2_data, q2_target, test_size=0.7, random_state=216)"
   ]
  },
  {
   "cell_type": "markdown",
   "metadata": {
    "id": "brTFvOOnk-XH"
   },
   "source": [
    "Now, create and fit a logistic regression model to predict the `species` of a penguin using all of the other features in the dataset.  Note that two of the features, `island` and `sex` are categorical. Use a one hot encoding to encode these categorical features in your model and combine them with the numerical features. You should fit your model only on `q2_train_data` and `q2_train_target`.\n",
    "\n",
    "Once you have fit your logistic regression model, make predictions for `q2_test_data` and then compute and report the `accuracy_score` of your predictions versus `q2_test_target`, put it in `q2_score` as `float`/`numpy.float64`. Also plot the confusion matrix for your predictions. Which `species` is most difficult for our model to classify? That is, for which `species` of penguin does our model make the most errors in its predictions on the test data? Put your answer in the cell under \"Answer 2\".\n",
    "\n",
    "Details:\n",
    "- We import the relevant code from `sklearn` for you; you can find the documentation of the functions by searching the [scikit-learn library](https://scikit-learn.org/stable/index.html).\n",
    "- If you use the default LogisticRegression model, you may get a warning message about convergence during fitting. We recommend that you set the parameter `max_iter=1000` when calling the constructor for your model (i.e., `LogisticRegression(max_iter=1000)`. This will allow the optimization code for the model to converge."
   ]
  },
  {
   "cell_type": "code",
   "execution_count": 47,
   "metadata": {
    "id": "TqvZCyNzk-XJ"
   },
   "outputs": [
    {
     "name": "stdout",
     "output_type": "stream",
     "text": [
      "accuracy: 0.9829059829059829\n"
     ]
    },
    {
     "data": {
      "image/png": "[encoded data removed]",
      "text/plain": [
       "<Figure size 432x288 with 2 Axes>"
      ]
     },
     "metadata": {
      "needs_background": "light"
     },
     "output_type": "display_data"
    }
   ],
   "source": [
    "from sklearn.linear_model import LogisticRegression\n",
    "from sklearn.preprocessing import OneHotEncoder\n",
    "from sklearn.metrics import accuracy_score\n",
    "from sklearn.metrics import plot_confusion_matrix\n",
    "import matplotlib.pyplot as plt # just to format confusion matrix\n",
    "\n",
    "cat_variables = OneHotEncoder().fit_transform(q2_train_data[['island','sex']]).toarray()\n",
    "num_variables = q2_train_data.drop(columns=['island','sex'])\n",
    "q2_train_data_encoded = np.append(cat_variables,num_variables,axis=1)\n",
    "\n",
    "testcat_variables = OneHotEncoder().fit_transform(q2_test_data[['island','sex']]).toarray()\n",
    "testnum_variables = q2_test_data.drop(columns=['island','sex'])\n",
    "q2_test_data_encoded = np.append(testcat_variables,testnum_variables,axis=1)\n",
    "\n",
    "logmodel = LogisticRegression(max_iter=1000).fit(q2_train_data_encoded,q2_train_target)\n",
    "\n",
    "q2_score = logmodel.score(q2_test_data_encoded,q2_test_target)\n",
    "\n",
    "plot_confusion_matrix(logmodel,q2_test_data_encoded,q2_test_target)\n",
    "# Leave this line here to print the result\n",
    "print(\"accuracy:\", q2_score)\n",
    "\n",
    "\n",
    "#plt.grid(False)\n",
    "# optionally uncomment the above line if your confusion matrix has \n",
    "# distracting white lines; it should remove them. Must come after\n",
    "# your call to plot_confusion_matrix."
   ]
  },
  {
   "cell_type": "markdown",
   "metadata": {
    "deletable": false,
    "editable": false,
    "id": "OqVpUQtZk-XJ"
   },
   "source": [
    "<!-- BEGIN QUESTION -->\n",
    "\n",
    "<!--\n",
    "BEGIN QUESTION\n",
    "name: q2_manual\n",
    "manual: true\n",
    "points: 3\n",
    "-->"
   ]
  },
  {
   "cell_type": "markdown",
   "metadata": {
    "id": "SM0TjpYjk-XK"
   },
   "source": [
    "### Answer 2"
   ]
  },
  {
   "cell_type": "markdown",
   "metadata": {},
   "source": [
    "The model makes the most errors in predicting Chinstrap penguins"
   ]
  },
  {
   "cell_type": "markdown",
   "metadata": {
    "id": "-8SjpIlIk-XK"
   },
   "source": [
    "<!-- END QUESTION -->\n",
    "\n",
    "\n",
    "\n",
    "### Question 3\n",
    "An interesting observation about classification in the bag of words model is that the predictive model knows nothing about the semantics of the particular language. For this question, you will build a sentiment analysis model of casual social media messages in the Central Thai language. The data consist of raw text messages, each of which is labeled with a *sentiment*, either negative `neg`, neutral `neu`, positive `pos`, or question `q`. For example, a message that reads \"I am happy you are my friend\" might be labeled as positive whereas one that reads \"It is raining right now\" might be labeled as neutral. The dataset is already split into a training and test set. We first import and preview the first ten messages and their sentiment labels."
   ]
  },
  {
   "cell_type": "code",
   "execution_count": 50,
   "metadata": {
    "id": "H_-_cgqJk-XK"
   },
   "outputs": [
    {
     "name": "stdout",
     "output_type": "stream",
     "text": [
      "Training messages: ['คะ' 'อิเหี้ยออมทำกูอยากกินเอ็มเค' '😅😅😅' 'สวัสดีวันพุธ แนน อะไรนะ'\n",
      " 'ก้อนขอบพระคุณมากๆนะคร้าบ ที่มาหาก้อนและชมเชยการบริการของพนักงานอีกด้วย <3 <3'\n",
      " 'เน็ตควายมากกูพูดจริงเสียดายตังค์ที่ติดตั้งเน็ตโครตห่วยยิ่งดึกๆเน็ตยิ่งห่วยตอนมาติดตั้งใหม่ๆก็ดีนานๆไปเเย่ขึ้นเรื่อยๆกากกว่าเน็ตค่ายอื่นอ่ะบอกจริงไม่สนหรอกว่าจะเป็นเด็กเเล้วเม้นด่าเเบบนี้ เเต่นี้หาตังค์จ่ายค่าเน็ตมาตลอดเหนื่อยน่ะเล่นเกมส์ไปเดี่ยวก็หายกากเกินติดตั้งโปรพิเศษ100Mเเต่พอวัดดูปล่อยไม่ถึงเท่าที่ตกลงกันไว้พอโทรไปเเจ้งก็ปล่อยมาเต็มไม่กี่วันก็เหมื่อนเดิมใบเเจ้งก็มาย้อนหลัง3เดือนทุกครั้งห่วยไปน่ะบางทีโปร100M/700 กว่าบาทเเต่คุณภาพเเย่เสียดายตังค์'\n",
      " 'ปากแดงกินฟรีค่ะ 😬😬' 'เหล้าเบลล์รสชาติเหี้ยสุด จะไม่แดกอีกละ'\n",
      " '🚗💨💨 ซิ่งเป็นบางเวลา ซ่อกแซ่กได้ทุกที่ << ขับสนุก ชับมัน ใช่เลย‼️ 👍🏻👍🏻 Honda Jazz>>#Jazz Naja'\n",
      " 'สนใจ ฟอจูนเนอร์ สีขาวครับ'] \n",
      "\n",
      "Training message labels/classes: ['neu' 'neg' 'neu' 'neu' 'neu' 'neg' 'neu' 'neg' 'neu' 'pos']\n"
     ]
    }
   ],
   "source": [
    "# Run but do not modify this code\n",
    "\n",
    "# Training data\n",
    "q3_train_text = pd.read_csv(\"train_text.txt\", sep=\"\\n\", dtype=str, squeeze=True)\n",
    "q3_train_label = pd.read_csv(\"train_label.txt\", sep=\"\\n\", dtype=str, squeeze=True)\n",
    "\n",
    "# Held testing data\n",
    "q3_test_text = pd.read_csv(\"test_text.txt\", sep=\"\\n\", dtype=str, squeeze=True)\n",
    "q3_test_label = pd.read_csv(\"test_label.txt\", sep=\"\\n\", dtype=str, squeeze=True)\n",
    "\n",
    "print(\"Training messages:\", q3_train_text[:10].values, \"\\n\")\n",
    "print(\"Training message labels/classes:\", q3_train_label[:10].values)"
   ]
  },
  {
   "cell_type": "markdown",
   "metadata": {
    "id": "VnSTPcqJk-XK"
   },
   "source": [
    "Now, create and fit a Naive Bayes model that predicts the sentiment label of a message given the raw text of the message. To do so, you will need to vectorize the messages using the `CountVectorizer` and then create a `MultinomialNB` model. Both are imported for you below; you can use default values for both. You are welcome but not required to combine the steps and use a pipeline object. Fit your model on the training data and then make predictions of the sentiment labels for the `q3_test_text`. Compute and report the `accuracy_score` of your predictions against the true `q3_test_label`, put it in `q3_score` as `float`/`numpy.float64`. Finally, plot the confusion matrix of your predictions against `q3_test_label`."
   ]
  },
  {
   "cell_type": "code",
   "execution_count": 51,
   "metadata": {
    "id": "ZUSJLXu3k-XL"
   },
   "outputs": [
    {
     "name": "stdout",
     "output_type": "stream",
     "text": [
      "Test classification accuracy: 0.6333707444818556\n"
     ]
    },
    {
     "data": {
      "image/png": "[encoded data removed]",
      "text/plain": [
       "<Figure size 432x288 with 2 Axes>"
      ]
     },
     "metadata": {
      "needs_background": "light"
     },
     "output_type": "display_data"
    }
   ],
   "source": [
    "from sklearn.feature_extraction.text import CountVectorizer\n",
    "from sklearn.naive_bayes import MultinomialNB\n",
    "from sklearn.pipeline import make_pipeline\n",
    "\n",
    "# Write your code for question 3 here\n",
    "NBmodel = make_pipeline(CountVectorizer(),MultinomialNB())\n",
    "NBmodel.fit(q3_train_text,q3_train_label)\n",
    "\n",
    "q3_score = NBmodel.score(q3_test_text,q3_test_label)\n",
    "plot_confusion_matrix(NBmodel,q3_test_text,q3_test_label)\n",
    "\n",
    "# Leave this line here to print the result\n",
    "print(\"Test classification accuracy:\", q3_score)\n",
    "\n",
    "#plt.grid(False)\n",
    "# optionally uncomment the above line if your confusion matrix has \n",
    "# distracting white lines; it should remove them. Must come after\n",
    "# your call to plot_confusion_matrix."
   ]
  },
  {
   "cell_type": "markdown",
   "metadata": {
    "id": "sKApphtfk-XL"
   },
   "source": [
    "### Question 4\n",
    "In addition to natural language processing, machine learning techniques for preditive modeling can be very effective for analyzing raw image data. In this question, we consider the task of modeling images of handwritten digits. We pose this as a classification task: We want to predict the digit (0, 1, 2, ..., 9) as a function of an 8 by 8 pixel grayscale image of a digit.\n",
    "\n",
    "To begin, we import and preview the data below. `data` has 64 features, each of which is an integer between 0 and 15 corresponding to a particular pixel intensity value for one of the 64 pixels in the 8 by 8 image. `target` contains the actual digits corresponding to each particular image."
   ]
  },
  {
   "cell_type": "code",
   "execution_count": 52,
   "metadata": {
    "id": "hYPNmj6kk-XL"
   },
   "outputs": [
    {
     "name": "stdout",
     "output_type": "stream",
     "text": [
      "The first image corresponds to digit:  0 \n",
      "\n",
      "First image with pixels flattened out: \n",
      " [ 0.  0.  5. 13.  9.  1.  0.  0.  0.  0. 13. 15. 10. 15.  5.  0.  0.  3.\n",
      " 15.  2.  0. 11.  8.  0.  0.  4. 12.  0.  0.  8.  8.  0.  0.  5.  8.  0.\n",
      "  0.  9.  8.  0.  0.  4. 11.  0.  1. 12.  7.  0.  0.  2. 14.  5. 10. 12.\n",
      "  0.  0.  0.  0.  6. 13. 10.  0.  0.  0.] \n",
      "\n",
      "First image rearranged to be 8 x 8: \n",
      " [[ 0.  0.  5. 13.  9.  1.  0.  0.]\n",
      " [ 0.  0. 13. 15. 10. 15.  5.  0.]\n",
      " [ 0.  3. 15.  2.  0. 11.  8.  0.]\n",
      " [ 0.  4. 12.  0.  0.  8.  8.  0.]\n",
      " [ 0.  5.  8.  0.  0.  9.  8.  0.]\n",
      " [ 0.  4. 11.  0.  1. 12.  7.  0.]\n",
      " [ 0.  2. 14.  5. 10. 12.  0.  0.]\n",
      " [ 0.  0.  6. 13. 10.  0.  0.  0.]] \n",
      "\n",
      "Visualizing first several images:\n"
     ]
    },
    {
     "data": {
      "image/png": "[encoded data removed]",
      "text/plain": [
       "<Figure size 720x216 with 30 Axes>"
      ]
     },
     "metadata": {},
     "output_type": "display_data"
    }
   ],
   "source": [
    "# Run but do not modify this code\n",
    "\n",
    "import matplotlib.pyplot as plt\n",
    "\n",
    "# Importing data\n",
    "from sklearn.datasets import load_digits\n",
    "digits = load_digits()\n",
    "q4_data = digits[\"data\"]\n",
    "q4_target = digits[\"target\"]\n",
    "\n",
    "# Previewing data\n",
    "print(\"The first image corresponds to digit: \", q4_target[0], \"\\n\")\n",
    "print(\"First image with pixels flattened out: \\n\", q4_data[0], \"\\n\")\n",
    "print(\"First image rearranged to be 8 x 8: \\n\", q4_data[0].reshape((8,8)), \"\\n\")\n",
    "print(\"Visualizing first several images:\")\n",
    "\n",
    "# Visualizing digits\n",
    "fig, axes = plt.subplots(3, 10, figsize=(10, 3),\n",
    "                         subplot_kw={'xticks':[], 'yticks':[]},\n",
    "                         gridspec_kw=dict(hspace=0.1, wspace=0.1))\n",
    "for i, ax in enumerate(axes.flat):\n",
    "    ax.imshow(digits.images[i], cmap='binary')"
   ]
  },
  {
   "cell_type": "markdown",
   "metadata": {
    "id": "PY59YxAXk-XM"
   },
   "source": [
    "We first split the data into training and test sets as usual."
   ]
  },
  {
   "cell_type": "code",
   "execution_count": 53,
   "metadata": {
    "id": "_wZ7T5JWk-XM"
   },
   "outputs": [],
   "source": [
    "# Run but do not modify this code\n",
    "\n",
    "q4_train_data, q4_test_data, q4_train_target, q4_test_target = train_test_split(\n",
    "    q4_data, q4_target, test_size=0.3, random_state=216)"
   ]
  },
  {
   "cell_type": "markdown",
   "metadata": {
    "id": "lMsDWuknk-XM"
   },
   "source": [
    "Now, use a k-nearest neighbors classifier for your model that predicts digit given an image. We import the relevant `KNeighborsClassifier` for you below. Recall that an important hyperparameter of a k-nearest neighbor model is k, or the `n_neighbors` parameter to the `KNeighborsClassifier()` constructor. \n",
    "\n",
    "Use 5-fold cross validation to search for the best value of `n_neighbors` in validation on the training set from among possible values between 1 and 30. You can either do so using `cross_validate` to check each possible setting directly, or you can use a `GridSearchCV` to perform the search automatically during fitting. Report the optimal value of `n_neighbors` in `q4_n` as `int`/`numpy.int64`.\n",
    "\n",
    "Finally, when you have fit your model with the optimal `n_neighbors` value on the training data, make predictions for the test data. Compute and report the `accuracy_score` of your model in testing and report it in `q4_score` as `float`/`numpy.float64`."
   ]
  },
  {
   "cell_type": "code",
   "execution_count": 58,
   "metadata": {
    "id": "BJZEgKMak-XM"
   },
   "outputs": [
    {
     "name": "stdout",
     "output_type": "stream",
     "text": [
      "Optimal n_neighors: 3\n",
      "Accuracy on testing data: 0.987037037037037\n"
     ]
    }
   ],
   "source": [
    "from sklearn.model_selection import cross_validate\n",
    "from sklearn.model_selection import GridSearchCV\n",
    "from sklearn.neighbors import KNeighborsClassifier\n",
    "\n",
    "# Write your code for question 4 here  \n",
    "knnmodel = GridSearchCV(estimator=KNeighborsClassifier(),\n",
    "                       param_grid={'n_neighbors':range(1,31)})\n",
    "knnmodel.fit(q4_train_data,q4_train_target)\n",
    "\n",
    "q4_n = knnmodel.best_params_['n_neighbors']\n",
    "q4_score = knnmodel.score(q4_test_data,q4_test_target)\n",
    "# Leave this line here to print the result\n",
    "print(\"Optimal n_neighors:\", q4_n)\n",
    "print(\"Accuracy on testing data:\", q4_score)"
   ]
  },
  {
   "cell_type": "code",
   "execution_count": null,
   "metadata": {},
   "outputs": [],
   "source": []
  }
 ],
 "metadata": {
  "colab": {
   "collapsed_sections": [],
   "name": "homework09.ipynb",
   "provenance": []
  },
  "kernelspec": {
   "display_name": "Python 3 (ipykernel)",
   "language": "python",
   "name": "python3"
  },
  "language_info": {
   "codemirror_mode": {
    "name": "ipython",
    "version": 3
   },
   "file_extension": ".py",
   "mimetype": "text/x-python",
   "name": "python",
   "nbconvert_exporter": "python",
   "pygments_lexer": "ipython3",
   "version": "3.9.7"
  }
 },
 "nbformat": 4,
 "nbformat_minor": 1
}
