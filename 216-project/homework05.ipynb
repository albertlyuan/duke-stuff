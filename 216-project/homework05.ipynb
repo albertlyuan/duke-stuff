{
 "cells": [
  {
   "cell_type": "markdown",
   "metadata": {
    "id": "whkWrYdq_KsD"
   },
   "source": [
    "# Homework 05\n",
    "\n",
    "In this exercise, you will practice inferential statistics with confidence intervals, bootstrapping, and hypothesis testing. Problems may involve a combination of math and code. \n",
    "\n",
    "Recall that you can use LaTeX to nicely format your math inside Markdown cellsby enclosing equations in single dollar signs (e.g., $x^2+4=8$) for inline math or double dollar signs for centered equations like $$P(X > 5) = \\frac{1}{6}.$$ For a reference if you are new to LaTeX, see the [overleaf documentation for mathematical expressions](https://www.overleaf.com/learn/latex/mathematical_expressions). \n",
    "\n",
    "Show your work and/or briefly explain your answers. In general, you will not receive full credit for numeric answers with no accompanying work or justification (math, code, explanation). For numeric answers, we will accept answers that are very slightly off due to rounding, z score of 2 vs. 1.96, etc. \n",
    "\n",
    "When you finish please go to Kernel --> Restart and Run All, and then double check that your notebook looks correct before submitting your .ipynb file (the notebook file) on gradescope."
   ]
  },
  {
   "cell_type": "code",
   "execution_count": 2,
   "metadata": {
    "id": "kNsUs2a3_KsF"
   },
   "outputs": [],
   "source": [
    "# Run this code cell to import relevant libraries\n",
    "import numpy as np\n",
    "import pandas as pd\n",
    "from scipy import stats"
   ]
  },
  {
   "cell_type": "markdown",
   "metadata": {
    "id": "H8pv1Mty_KsG"
   },
   "source": [
    "### Question 1\n",
    "\n",
    "1. A website is trying to increase registration for first-time visitors, exposing a random subset of these visitors to a new site design. Of 752 randomly sampled visitors over a month who saw the new design, 64 registered. Construct a 95% confidence interval for the percentage of visitors who would register for the website under the new design using the normal distribution. Save your answer in a tuple `q1_1` with 2 `numpy.float64` items that `q1_1[0]` is the left bound and `q1_1[1]` is the right bound. Use percentages for both bounds, for example, save 50.0 in your answer for 50% of visitors.\n",
    "2. A study examined the average pay for a random sample of men and women entering the workforce as doctors for 21 different positions. If each gender was equally paid, then we would expect about half of those positions to have men paid more than women and women would be paid more than men in the other half of positions. In the study, men were, on average, paid more in 17 of the 21 positions. Complete a hypothesis test using the normal distribution (two-sided or one-sided, just be clear which you are reporting) to examine whether there is significant evidence (at the 0.05 level) of gender discrimination in pay in these positions. Report your p-value and interpret the result. Save your p-value in `q1_2` as a `numpy.float64` and interpret it in the \"Answer 1\" cell."
   ]
  },
  {
   "cell_type": "code",
   "execution_count": 3,
   "metadata": {
    "id": "Tza-vyWs_KsG"
   },
   "outputs": [
    {
     "name": "stdout",
     "output_type": "stream",
     "text": [
      "(6.5162325525460165, 10.505044043198664)\n",
      "0.0022781749015925445\n"
     ]
    }
   ],
   "source": [
    "q1_1Mu = 64/752\n",
    "q1_1S = np.sqrt(q1_1Mu*(1**2) - (q1_1Mu*1)**2)\n",
    "q1_1Delta = (1.96*q1_1S)/np.sqrt(752)\n",
    "q1_1 = (np.float64(q1_1Mu-q1_1Delta)*100,np.float64(q1_1Mu+q1_1Delta)*100)\n",
    "print(q1_1)\n",
    "\n",
    "q1_2Mu = 17/21\n",
    "q1_2null=0.5\n",
    "q1_2S = np.sqrt(q1_2null*(1**2) - (q1_2null*1)**2)\n",
    "q1_2Z = np.sqrt(21)*((q1_2Mu-0.5)/q1_2S)\n",
    "q1_2 = (1-stats.norm.cdf(q1_2Z)) #two sided\n",
    "print(q1_2)\n",
    "\n"
   ]
  },
  {
   "cell_type": "markdown",
   "metadata": {
    "deletable": false,
    "editable": false,
    "id": "GUh8S2O1_KsH"
   },
   "source": [
    "<!-- BEGIN QUESTION -->\n",
    "\n",
    "<!--\n",
    "BEGIN QUESTION\n",
    "name: q1_2_manual\n",
    "manual: true\n",
    "points: 2\n",
    "-->"
   ]
  },
  {
   "cell_type": "markdown",
   "metadata": {
    "id": "KioGkNAj_KsH"
   },
   "source": [
    "Our null hypothesis is that the proportion of positions where men are paid more is 0.5.\n",
    "\n",
    "Our alternative hypothesis is that the proportion of positions where men are paid more is not 0.5.\n",
    "\n",
    "Our p-value is 0.002. This means that assuming that half of the positions men are paid more, the probability of observing 17 of 21 positions where men are paid more or more extreme is 0.002. Since this is lower than our significance level of 0.05, so we reject the null in favor of the alternative hypothesis. We conclude that there is significant evidence that the proportion of positions where men are paid more is not 0.5."
   ]
  },
  {
   "cell_type": "markdown",
   "metadata": {
    "id": "6hcnV3Vk_KsI"
   },
   "source": [
    "<!-- END QUESTION -->\n",
    "\n",
    "\n",
    "\n",
    "## Movie Ratings Data\n",
    "In the remainder of this assignment you will work with the movielens dataset of movie ratings that we have seen before. Below we import and preview the data. It consists of 2 tables: `users` has a row for every individual who has rated any movies, `movie-ratings` has a row for every rating of a particular movie by a particular user. This means users with multiple ratings are in the `movie_ratings` multiple times. The data is a random sample of all of the movie ratings made on the movielens service."
   ]
  },
  {
   "cell_type": "code",
   "execution_count": 4,
   "metadata": {
    "id": "-8ipQ-UE_KsI"
   },
   "outputs": [
    {
     "data": {
      "text/html": [
       "<div>\n",
       "<style scoped>\n",
       "    .dataframe tbody tr th:only-of-type {\n",
       "        vertical-align: middle;\n",
       "    }\n",
       "\n",
       "    .dataframe tbody tr th {\n",
       "        vertical-align: top;\n",
       "    }\n",
       "\n",
       "    .dataframe thead th {\n",
       "        text-align: right;\n",
       "    }\n",
       "</style>\n",
       "<table border=\"1\" class=\"dataframe\">\n",
       "  <thead>\n",
       "    <tr style=\"text-align: right;\">\n",
       "      <th></th>\n",
       "      <th>user_id</th>\n",
       "      <th>age</th>\n",
       "      <th>sex</th>\n",
       "      <th>occupation</th>\n",
       "    </tr>\n",
       "  </thead>\n",
       "  <tbody>\n",
       "    <tr>\n",
       "      <th>0</th>\n",
       "      <td>1</td>\n",
       "      <td>24</td>\n",
       "      <td>M</td>\n",
       "      <td>technician</td>\n",
       "    </tr>\n",
       "    <tr>\n",
       "      <th>1</th>\n",
       "      <td>2</td>\n",
       "      <td>53</td>\n",
       "      <td>F</td>\n",
       "      <td>other</td>\n",
       "    </tr>\n",
       "    <tr>\n",
       "      <th>2</th>\n",
       "      <td>3</td>\n",
       "      <td>23</td>\n",
       "      <td>M</td>\n",
       "      <td>writer</td>\n",
       "    </tr>\n",
       "    <tr>\n",
       "      <th>3</th>\n",
       "      <td>4</td>\n",
       "      <td>24</td>\n",
       "      <td>M</td>\n",
       "      <td>technician</td>\n",
       "    </tr>\n",
       "    <tr>\n",
       "      <th>4</th>\n",
       "      <td>5</td>\n",
       "      <td>33</td>\n",
       "      <td>F</td>\n",
       "      <td>other</td>\n",
       "    </tr>\n",
       "  </tbody>\n",
       "</table>\n",
       "</div>"
      ],
      "text/plain": [
       "   user_id  age sex  occupation\n",
       "0        1   24   M  technician\n",
       "1        2   53   F       other\n",
       "2        3   23   M      writer\n",
       "3        4   24   M  technician\n",
       "4        5   33   F       other"
      ]
     },
     "execution_count": 4,
     "metadata": {},
     "output_type": "execute_result"
    }
   ],
   "source": [
    "users = pd.read_csv(\"users.csv\")\n",
    "users.head()"
   ]
  },
  {
   "cell_type": "code",
   "execution_count": 5,
   "metadata": {
    "id": "R5B0IwGe_KsI"
   },
   "outputs": [
    {
     "data": {
      "text/html": [
       "<div>\n",
       "<style scoped>\n",
       "    .dataframe tbody tr th:only-of-type {\n",
       "        vertical-align: middle;\n",
       "    }\n",
       "\n",
       "    .dataframe tbody tr th {\n",
       "        vertical-align: top;\n",
       "    }\n",
       "\n",
       "    .dataframe thead th {\n",
       "        text-align: right;\n",
       "    }\n",
       "</style>\n",
       "<table border=\"1\" class=\"dataframe\">\n",
       "  <thead>\n",
       "    <tr style=\"text-align: right;\">\n",
       "      <th></th>\n",
       "      <th>user_id</th>\n",
       "      <th>age</th>\n",
       "      <th>sex</th>\n",
       "      <th>occupation</th>\n",
       "      <th>movie_id</th>\n",
       "      <th>rating</th>\n",
       "      <th>movie_title</th>\n",
       "    </tr>\n",
       "  </thead>\n",
       "  <tbody>\n",
       "    <tr>\n",
       "      <th>0</th>\n",
       "      <td>1</td>\n",
       "      <td>24</td>\n",
       "      <td>M</td>\n",
       "      <td>technician</td>\n",
       "      <td>61</td>\n",
       "      <td>4</td>\n",
       "      <td>Three Colors: White (1994)</td>\n",
       "    </tr>\n",
       "    <tr>\n",
       "      <th>1</th>\n",
       "      <td>13</td>\n",
       "      <td>47</td>\n",
       "      <td>M</td>\n",
       "      <td>educator</td>\n",
       "      <td>61</td>\n",
       "      <td>4</td>\n",
       "      <td>Three Colors: White (1994)</td>\n",
       "    </tr>\n",
       "    <tr>\n",
       "      <th>2</th>\n",
       "      <td>18</td>\n",
       "      <td>35</td>\n",
       "      <td>F</td>\n",
       "      <td>other</td>\n",
       "      <td>61</td>\n",
       "      <td>4</td>\n",
       "      <td>Three Colors: White (1994)</td>\n",
       "    </tr>\n",
       "    <tr>\n",
       "      <th>3</th>\n",
       "      <td>58</td>\n",
       "      <td>27</td>\n",
       "      <td>M</td>\n",
       "      <td>programmer</td>\n",
       "      <td>61</td>\n",
       "      <td>5</td>\n",
       "      <td>Three Colors: White (1994)</td>\n",
       "    </tr>\n",
       "    <tr>\n",
       "      <th>4</th>\n",
       "      <td>59</td>\n",
       "      <td>49</td>\n",
       "      <td>M</td>\n",
       "      <td>educator</td>\n",
       "      <td>61</td>\n",
       "      <td>4</td>\n",
       "      <td>Three Colors: White (1994)</td>\n",
       "    </tr>\n",
       "  </tbody>\n",
       "</table>\n",
       "</div>"
      ],
      "text/plain": [
       "   user_id  age sex  occupation  movie_id  rating                 movie_title\n",
       "0        1   24   M  technician        61       4  Three Colors: White (1994)\n",
       "1       13   47   M    educator        61       4  Three Colors: White (1994)\n",
       "2       18   35   F       other        61       4  Three Colors: White (1994)\n",
       "3       58   27   M  programmer        61       5  Three Colors: White (1994)\n",
       "4       59   49   M    educator        61       4  Three Colors: White (1994)"
      ]
     },
     "execution_count": 5,
     "metadata": {},
     "output_type": "execute_result"
    }
   ],
   "source": [
    "movie_ratings = pd.read_csv(\"movies-all.csv\")\n",
    "movie_ratings.head()"
   ]
  },
  {
   "cell_type": "markdown",
   "metadata": {
    "id": "GPbCcAWj_KsI"
   },
   "source": [
    "### Question 2\n",
    "1. Compute a 95% confidence interval for the mean `age` of users using the normal distribution. Save your answer in a tuple `q2_1` with 2 `numpy.float64` items that `q2_1[0]` is the left bound and `q2_1[1]` is the right bound.\n",
    "2. Compute a 95% confidence interval for the mean `age` of users who have rated the movie `Casablanca (1942)` using the normal distribution. Save your answer in `q2_2`, similar requirements as above.\n",
    "3. Casablanca is an old movie, one might suspect that it has been rated by older individuals on average than the entire dataset. Just looking at the confidence intervals you computed in steps 1 and 2, can you conclude that there is significant evidence for this belief? Why or why not? Put your answer in the \"Answer 2\" cell."
   ]
  },
  {
   "cell_type": "code",
   "execution_count": 6,
   "metadata": {
    "id": "eaXgnGr6_KsJ"
   },
   "outputs": [
    {
     "name": "stdout",
     "output_type": "stream",
     "text": [
      "(33.27417039488504, 34.829753253047095)\n"
     ]
    }
   ],
   "source": [
    "q2_1mu = np.mean(users[\"age\"])\n",
    "q2_1s = np.std(users[\"age\"])\n",
    "q2_1n = len(users[\"age\"])\n",
    "q2_1 = stats.norm.interval(alpha=0.95,loc=q2_1mu,scale=q2_1s/np.sqrt(q2_1n))\n",
    "print(q2_1)"
   ]
  },
  {
   "cell_type": "code",
   "execution_count": 7,
   "metadata": {},
   "outputs": [
    {
     "name": "stdout",
     "output_type": "stream",
     "text": [
      "35.89711934156379 (34.46345637868268, 37.330782304444895)\n"
     ]
    }
   ],
   "source": [
    "casablanca = movie_ratings[movie_ratings[\"movie_title\"]==\"Casablanca (1942)\"]\n",
    "q2_2mu = np.mean(casablanca[\"age\"])\n",
    "q2_2s = np.std(casablanca[\"age\"])\n",
    "q2_2n = len(casablanca[\"age\"])\n",
    "q2_2 = stats.norm.interval(alpha=0.95,loc=q2_2mu,scale=q2_2s/np.sqrt(q2_2n))\n",
    "print(q2_2mu, q2_2)"
   ]
  },
  {
   "cell_type": "markdown",
   "metadata": {
    "deletable": false,
    "editable": false,
    "id": "Q3tbOyUM_KsJ"
   },
   "source": [
    "<!-- BEGIN QUESTION -->\n",
    "\n",
    "<!--\n",
    "BEGIN QUESTION\n",
    "name: q2_3_manual\n",
    "manual: true\n",
    "points: 4\n",
    "-->"
   ]
  },
  {
   "cell_type": "markdown",
   "metadata": {
    "id": "UmthlFUl_KsJ"
   },
   "source": [
    "Since the mean of the Casablanca raters is 35.89 and the right-bounds of the $user$ 95%-confidence interval is lower (34.82), there is significant evidence that Casablanca raters are on average older. "
   ]
  },
  {
   "cell_type": "markdown",
   "metadata": {
    "id": "wxyWka05_KsJ"
   },
   "source": [
    "<!-- END QUESTION -->\n",
    "\n",
    "\n",
    "\n",
    "### Question 3\n",
    "Only 18 users have rated the movie `Lost in Space (1998)`.\n",
    "1. Use bootstrapping with 10,000 bootstrap resamples to compute a 95% confidence interval for the average `age` of users who have rated `Lost in Space (1998)`. Save your answer in a tuple `q3_1` with 2 `numpy.float64` items that `q3_1[0]` is the left bound and `q3_1[1]` is the right bound.\n",
    "2. One of the advantages of bootstrapping is that we can easily compute confidence intervals for arbitrary measurements of distributions. Use bootstrapping with 10,000 bootstrap resamples to compute a 95% confidence interval for the **median** `rating` of `Lost in Space (1998)`. Note that numpy provides a vectorized function for [calculating the median](https://numpy.org/doc/stable/reference/generated/numpy.median.html) as well as the mean. Save your answer in a tuple `q3_2` with 2 `numpy.float64` items. Similar requirements as above"
   ]
  },
  {
   "cell_type": "code",
   "execution_count": 8,
   "metadata": {
    "id": "FpfF7ybS_KsK"
   },
   "outputs": [
    {
     "name": "stdout",
     "output_type": "stream",
     "text": [
      "(26.055555555555557, 36.66805555555553)\n",
      "(2.5, 4.0)\n"
     ]
    }
   ],
   "source": [
    "LiSRaters = movie_ratings[movie_ratings[\"movie_title\"]==\"Lost in Space (1998)\"]\n",
    "agebstrapSamples = np.random.choice(LiSRaters[\"age\"],size=(10000,len(LiSRaters)), replace=True)\n",
    "q3_1mu = np.average(agebstrapSamples,axis=1)\n",
    "q3_1left = np.percentile(q3_1mu,2.5)\n",
    "q3_1right = np.percentile(q3_1mu,97.5)\n",
    "q3_1= (q3_1left,q3_1right)\n",
    "print(q3_1)\n",
    "\n",
    "ratingbstrapSamples = np.random.choice(LiSRaters[\"rating\"],size=(10000,len(LiSRaters)), replace=True)\n",
    "q3_2median = np.median(ratingbstrapSamples,axis=1)\n",
    "q3_2left = np.percentile(q3_2median,2.5)\n",
    "q3_2right = np.percentile(q3_2median,97.5)\n",
    "q3_2= (q3_2left,q3_2right)\n",
    "print(q3_2)"
   ]
  },
  {
   "cell_type": "markdown",
   "metadata": {
    "id": "Ay4-0az2_KsK"
   },
   "source": [
    "### Question 4\n",
    "The `Star Wars (1977)` film is quite popular, with a median rating of 5 out of 5. However, male users gave it a slightly higher average rating of about 4.4 whereas female users gave the same movie an average rating of about 4.2.\n",
    "\n",
    "1. Consider the null hypothesis that the average rating of `Star Wars (1977)` is the same for `sex='F'` and `sex='M'` users. The alternative hypothesis is that the average ratings are not equal. Conduct a two-sided t test using [`stats.ttest_ind`](https://docs.scipy.org/doc/scipy/reference/generated/scipy.stats.ttest_ind.html) to evaluate this using the sample ratings data. Report your p-value and interpret it at a significance level of 0.05. Save your p-value in `q4_1` as a `numpy.float64` and interpret it in the \"Answer 4\" cell.\n",
    "\n",
    "2. About 51% of female users rated `Star Wars (1977)` a `5` (the highest rating). Consider the null hypothesis that 51% of male users rate `Star Wars (1977)` a `5`. Conduct a two-sided hypothesis test  using [`stats.t.cdf`](https://docs.scipy.org/doc/scipy/reference/generated/scipy.stats.t.html) to evaluate this in light of the sample ratings data of male users who rated `Star Wars (1977)`. Report your p-value and interpret it at a significance level of 0.05. Save your p-value in `q4_2` as a `numpy.float64` and interpret it in the \"Answer 4\" cell.\n",
    "\n",
    "3. Consider the null hypothesis that female and male users are equally likely to rate `Star Wars (1977)` a `5`. Conduct a two-sided t test using [`stats.ttest_ind_from_stats`](https://docs.scipy.org/doc/scipy/reference/generated/scipy.stats.ttest_ind_from_stats.html) to evaluate this in light of the sample data of female and male users who rated `Star Wars (1977)`. Report your p-value and interpret it at a significance level of 0.05. Save your p-value in `q4_3` as a `numpy.float64` and interpret it in the \"Answer 4\" cell. You should observe a different p-value than in step 2 despite the hypotheses under consideration being ostensibly similar. Briefly explain why you observe this difference."
   ]
  },
  {
   "cell_type": "code",
   "execution_count": 31,
   "metadata": {
    "id": "yC9ZekX9_KsK"
   },
   "outputs": [
    {
     "name": "stdout",
     "output_type": "stream",
     "text": [
      "0.06606506021398857\n",
      "0.007352407323265142\n",
      "0.1717837459146108\n"
     ]
    }
   ],
   "source": [
    "starwarsRaters = movie_ratings[movie_ratings[\"movie_title\"]==\"Star Wars (1977)\"]\n",
    "femaleRaters = starwarsRaters[starwarsRaters[\"sex\"]==\"F\"]\n",
    "maleRaters = starwarsRaters[starwarsRaters[\"sex\"]==\"M\"]\n",
    "q4_1 = stats.ttest_ind(femaleRaters[\"rating\"], maleRaters[\"rating\"]).pvalue\n",
    "print(q4_1)\n",
    "\n",
    "male5Prop = maleRaters[maleRaters[\"rating\"]==5].shape[0] / maleRaters.shape[0]\n",
    "male5PropSE = np.sqrt(male5Prop*(1**2) - (male5Prop*1)**2)\n",
    "male5Z = np.sqrt(maleRaters.shape[0])*(male5Prop - 0.51)/male5PropSE\n",
    "maledf = maleRaters.shape[0] - 1\n",
    "q4_2 = (1-stats.t.cdf(male5Z,maledf))*2\n",
    "print(q4_2)#0.4945\n",
    "\n",
    "fmean = femaleRaters[femaleRaters['rating']==5].shape[0] / femaleRaters.shape[0]\n",
    "fstd = np.sqrt(fmean*(1**2) - (fmean*1)**2 )\n",
    "fn = femaleRaters.shape[0]\n",
    "mmean = maleRaters[maleRaters['rating']==5].shape[0] / maleRaters.shape[0]\n",
    "mstd = np.sqrt(mmean*(1**2) - (mmean*1)**2 )\n",
    "mn = maleRaters.shape[0]\n",
    "\n",
    "q4_3 = stats.ttest_ind_from_stats(mean1 = fmean, std1=fstd, nobs1=fn, mean2 = mmean, std2 = mstd, nobs2=mn).pvalue\n",
    "print(q4_3)"
   ]
  },
  {
   "cell_type": "markdown",
   "metadata": {
    "id": "1RuOwrVg_KsL"
   },
   "source": [
    "Our null hypothesis is that the mean rating of male raters is equal to the mean rating of female raters ($\\mu_m - \\mu_f=0$).\n",
    "\n",
    "Our alternative hypothesis is that the mean rating of male raters is not equal than the mean rating of female raters ($\\mu_m - \\mu_f\\neq0$).\n",
    "\n",
    "Our p-value is 0.066. This means that assuming that the mean rating of male raters is equal to the mean rating of female raters, the probability of observing a difference of 4.4-4.2=0.2 or more extreme is 0.066. Since this is higher than our significance level of 0.05, so we fail to reject the null in favor of the alternative hypothesis. We conclude that there is not significant evidence that the mean rating of male raters is not equal to the mean rating of female raters"
   ]
  },
  {
   "cell_type": "markdown",
   "metadata": {},
   "source": [
    "Our null hypothesis is that the proportion of males giving Star Wars a rating of 5 is equal to 0.51.\n",
    "\n",
    "Our alternative hypothesis is that the proportion of males giving Star Wars a rating of 5 is not equal to 0.51.\n",
    "\n",
    "Our p-value is 0.007. This means that assuming that the proportion of males giving Star Wars a rating of 5 is equal to 0.51, the probability of observing a difference of 0.574-0.51=0.064 or more extreme is 0.007. Since this is higher than our significance level of 0.05, so we fail to reject the null in favor of the alternative hypothesis. We conclude that there is not significant evidence that the proportion of males giving Star Wars a rating of 5 is not equal to 0.51"
   ]
  },
  {
   "cell_type": "markdown",
   "metadata": {},
   "source": [
    "Our null hypothesis is that the proportion of males giving Star Wars a rating of 5 is equal to the proportion of females giving Star Wars a rating of 5 ($\\mu_m - \\mu_f=0$).\n",
    "\n",
    "Our alternative hypothesis is that the proportion of males giving Star Wars a rating of 5 is not equal to the proportion of females giving Star Wars a rating of 5 ($\\mu_m - \\mu_f\\neq0$).\n",
    "\n",
    "Our p-value is 0.171. This means that assuming that the proportion of males giving Star Wars a rating of 5 is equal to 0.51, the probability of observing a difference of 0.574-0.51=0.064 or more extreme is 0.171. Since this is higher than our significance level of 0.05, so we fail to reject the null in favor of the alternative hypothesis. We conclude that there is not significant evidence that the proportion of males giving Star Wars a rating of 5 is not equal to the proportion of females giving Star Wars a rating of 5."
   ]
  },
  {
   "cell_type": "markdown",
   "metadata": {
    "deletable": false,
    "editable": false,
    "id": "mtTJh4Zf_KsL"
   },
   "source": [
    "<!-- BEGIN QUESTION -->\n",
    "\n",
    "<!--\n",
    "BEGIN QUESTION\n",
    "name: q4_manual\n",
    "manual: true\n",
    "points:\n",
    "    - 2\n",
    "    - 2\n",
    "    - 2\n",
    "-->"
   ]
  }
 ],
 "metadata": {
  "colab": {
   "name": "homework05.ipynb",
   "provenance": []
  },
  "kernelspec": {
   "display_name": "Python 3 (ipykernel)",
   "language": "python",
   "name": "python3"
  },
  "language_info": {
   "codemirror_mode": {
    "name": "ipython",
    "version": 3
   },
   "file_extension": ".py",
   "mimetype": "text/x-python",
   "name": "python",
   "nbconvert_exporter": "python",
   "pygments_lexer": "ipython3",
   "version": "3.9.7"
  }
 },
 "nbformat": 4,
 "nbformat_minor": 1
}
