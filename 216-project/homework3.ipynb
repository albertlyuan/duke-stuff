{
 "cells": [
  {
   "cell_type": "markdown",
   "metadata": {},
   "source": [
    "# Homework 3\n",
    "In this exercise, you will demonstrate your learning by solving probability problems. Many of these will be math problems. You can write your answers in Markdown cells. Recall that you can use LaTeX to nicely format your math inside Markdown cells by enclosing equations in single dollar signs (e.g., $x^2+4=8$) for inline math or double dollar signs for centered equations like $$P(X > 5) = \\frac{1}{6}.$$\n",
    "\n",
    "For a reference if you are new to LaTeX, see the [overleaf documentation for mathematical expressions](https://www.overleaf.com/learn/latex/mathematical_expressions). Some particular LaTeX commands you might find useful include:\n",
    "- To write a fraction, use `\\frac{numerator}{denominator}` like $\\frac{3}{4}$\n",
    "- To write set intersection and union use `\\cap` and `\\cup` respectively like $A \\cap B$ and $A \\cup B$.\n",
    "- To write a bar over something (like a set complement) use `\\overline{}` like in $\\overline{E}$.\n",
    "- To write a subscript or superscript, use `_{}` or `^{}` as in $X_{n}$ or $X^{2}$.\n",
    "- To write a sum or product, use `\\sum` or `\\prod` as in $\\sum_{i=1}^{n} X_i$ or $\\prod_{i=1}^{n} X_i$.\n",
    "\n",
    "Show your work and/or briefly explain your answers. In general you will not receive full credit for numeric answers with no accompanying work or justification (math, code, explanation), and we can't give you partial credit if you don't show your work. Remember the example in the practice.\n",
    "\n",
    "When you finish please go to Kernel --> Restart and Run All, and then double check that your notebook looks correct before submitting your .ipynb file (the notebook file) on gradescope."
   ]
  },
  {
   "cell_type": "markdown",
   "metadata": {
    "editable": false
   },
   "source": [
    "## Question 1\n",
    "Suppose 600 individuals are on a cruise. Of the individuals:\n",
    "- 300 go snorkling\n",
    "- 450 have lunch at the restaurant\n",
    "- 200 go dancing \n",
    "- 200 go snorkling and have lunch at the restaurant\n",
    "- 100 go snorkling and go dancing\n",
    "- 100 have lunch at the restaurant and go dancing\n",
    "- 50 go snorkling, have lunch at the restaurant, and go dancing\n",
    "\n",
    "For each of the following, compute the probability that an individual chosen uniformly at random:\n",
    "1. goes snorkling and has lunch at the restaurant\n",
    "2. does not have lunch at the restaurant\n",
    "3. goes snorkling or goes dancing\n",
    "4. has lunch at the restaurant but does not go snorkling \n",
    "5. goes dancing given that they have lunch at the restaurant\n",
    "\n",
    "For the autograder, in the code cell, put question 1's answer in the variable `q1_1`, question 2's answer in `q1_2`, and so on. Show your work in the Markdown cell.\n",
    "\n",
    "<!--\n",
    "BEGIN QUESTION\n",
    "name: q1\n",
    "manual: False\n",
    "points:\n",
    "    - 0.5\n",
    "    - 0.5\n",
    "    - 1\n",
    "    - 0.5\n",
    "    - 0.5\n",
    "    - 1\n",
    "    - 0.5\n",
    "    - 0.5\n",
    "    - 1\n",
    "    - 0.5\n",
    "    - 0.5\n",
    "    - 1\n",
    "    - 0.5\n",
    "    - 0.5\n",
    "    - 1\n",
    "-->"
   ]
  },
  {
   "cell_type": "code",
   "execution_count": 1,
   "metadata": {},
   "outputs": [],
   "source": [
    "# Code for question 1 (or can use a hand calculator and show work)\n",
    "\n",
    "q1_1 = 200/600\n",
    "q1_2 = (600-450)/600\n",
    "q1_3 = 300/600 + 200/600 - 100/600\n",
    "q1_4 = (450/600) - (200/600)\n",
    "q1_5 = (100/600)/(450/600)"
   ]
  },
  {
   "cell_type": "markdown",
   "metadata": {},
   "source": [
    "q1_1: given \n",
    "\n",
    "q1_2: complement rule\n",
    "\n",
    "q1_3: OR rule is $snorkle \\cup dance = snorkle + dance - snorkle\\cap dance$\n",
    "\n",
    "q1_4: $lunch = lunch\\cap snorkle + lunch \\cap \\overline{snorkle}$ so $lunch\\cap \\overline{snorkle} = lunch - lunch\\cap snorkle $\n",
    "\n",
    "q1_5: Conditional Probability: $dance|lunch = \\frac{dance\\cap lunch}{lunch}$"
   ]
  },
  {
   "cell_type": "markdown",
   "metadata": {
    "editable": false
   },
   "source": [
    "<!-- END QUESTION -->\n",
    "\n",
    "## Question 2\n",
    "\n",
    "1. Consider a rare genetic disorder that occurs with 5\\% probability. Individuals with the genetic disorder have a 60\\% probability to develop a particular medical condition whereas individuals without the disorder only have a 10\\% probability to develop the medical condition. What is the probably that a random individual from the entire population will develop the medical condition?\n",
    "\n",
    "2. Suppose that for a random student, there is an 80\\% probability of passing the final exam, a 90\\% chance of passing the course, and a 99\\% of passing the course given that the student passes the final exam. Given that a student passed the course, what is the probability that the student did not pass the final exam?  \n",
    "\n",
    "3. Suppose that 10\\% of the cars produced on an assembly line have some defect. The car manufacturer has a test for checking for defects and for cars with defects, it correctly finds the defect with 99\\% probability. However, for cars without defects, the test incorrectly reports a defect with 5\\% probability.  What is the probability that a car has no defect given that the test reports that it has a defect?\n",
    "\n",
    "For the autograder, in the code cell, put question 1's answer in the variable `q2_1` and so on. Show your work in the Markdown cell.\n",
    "\n",
    "<!--\n",
    "BEGIN QUESTION\n",
    "name: q2\n",
    "manual: false\n",
    "points:\n",
    "    - 0.5\n",
    "    - 0.5\n",
    "    - 1\n",
    "    - 0.5\n",
    "    - 0.5\n",
    "    - 1\n",
    "    - 0.5\n",
    "    - 0.5\n",
    "    - 1\n",
    "-->"
   ]
  },
  {
   "cell_type": "code",
   "execution_count": 2,
   "metadata": {},
   "outputs": [],
   "source": [
    "# Code for question 2 (or can use a hand calculator and show work)\n",
    "\n",
    "q2_1 = (0.6*0.05) + (0.1*0.95)\n",
    "q2_2 = (0.9 - (0.99*0.8))/0.9\n",
    "q2_3 = (0.05*0.9)/((0.99*0.1)+(0.05*0.9))\n"
   ]
  },
  {
   "cell_type": "markdown",
   "metadata": {},
   "source": [
    "q2_1: $condition = condition\\cap disorder + condition\\cap \\overline{disorder} = (condition|disorder)*disorder + (condition|\\overline{disorder})*\\overline{disorder}$\n",
    "\n",
    "q2_2: $\\overline{final}|course = \\frac{\\overline{final} \\cap course}{course} = \\frac{course - course\\cap final}{course}$\n",
    "\n",
    "q2_3: $\\overline{defect}|positive = \\frac{\\overline{defect}\\cap positive}{positive} = \\frac{\\overline{defect}\\cap positive}{positive\\cap defect + positive \\cap \\overline{defect}} $\n"
   ]
  },
  {
   "cell_type": "markdown",
   "metadata": {
    "editable": false
   },
   "source": [
    "<!-- END QUESTION -->\n",
    "\n",
    "## Question 3\n",
    "1. Suppose you are playing a game of chance. You roll a single fair 6-sided die. If the result is odd, you win a number of dollars equal to the die roll. If the result is even, you lose a number of dollars equal to the die roll. What is the expected number of dollars you will win or lose playing this game once? \n",
    "\n",
    "2. You play another game of chance. It proceeds in three rounds. In each round you roll a single fair 6-sided die. In the first round, if you roll a 1 you get \\\\$1. In the second round if you roll a 2 you get \\\\$2. In the third round if you roll a 3 you get \\\\$3. If at the end you have not won any of the three rounds, you lose \\\\$3. What is the expected number of dollars you will win or lose playing this game once?\n",
    "\n",
    "For the autograder, in the code cell, put question 1's answer in the variable `q3_1` and question 2's answer in `q3_2`. Show your work in the Markdown cell.\n",
    "\n",
    "<!--\n",
    "BEGIN QUESTION\n",
    "name: q3\n",
    "manual: false\n",
    "points:\n",
    "    - 1\n",
    "    - 1\n",
    "    - 1\n",
    "    - 1\n",
    "-->"
   ]
  },
  {
   "cell_type": "code",
   "execution_count": 3,
   "metadata": {},
   "outputs": [],
   "source": [
    "# Code for question 2 (or can use a hand calculator and show work)\n",
    "\n",
    "q3_1 = (1/6)*1 - (1/6)*2 + (1/6)*3 - (1/6)*4 + (1/6)*5 - (1/6)*6\n",
    "\n",
    "q3_2 = (1/6)*(5/6)*(5/6)*(1+2+3) + (1/6)*(1/6)*(5/6)*(3+4+5) + (1/216)*6 + (5/6)*(5/6)*(5/6)*-3\n"
   ]
  },
  {
   "cell_type": "markdown",
   "metadata": {},
   "source": [
    "there is 1/6 odds for each possible dice roll. each of these probilities is multiplied by the outcome to get the expected value\n",
    "\n",
    "there are 8 possibilities. Either only 1 of the 3 dice produce points, only 2 of the 3 dice produce points, all 3 dice produce points or non of the dice produce points. The odds of 1/3 dice is $(1/6)*(5/6)*(5/6)$ and this is is the probability of getting 1, 2, and 3 points. The odds of 2/3 dice is $(1/6)*(1/6)*(5/6)$ and this is is the probability of getting 3, 4, and 5 points. The odds of 3/3 dice is $(1/6)*(1/6)*(1/6)$ and this is is the probability of getting 6 points. The odds of 0/3 dice is $(5/6)*(5/6)*(5/6)$ and this is is the probability of getting -3 points."
   ]
  },
  {
   "cell_type": "markdown",
   "metadata": {
    "editable": false
   },
   "source": [
    "<!-- END QUESTION -->\n",
    "\n",
    "## Question 4\n",
    "Suppose you toss a coin $n$ times and observe that 51\\% of the time the result is heads. Assuming $n$ is large enough to use the central limit theorem, how large would $n$ need to be before you could conclude that the probability that the coin is fair (50/50 percent chance of heads or tails) is at most 5\\%? *Hint*: To calculate this it may help to define an appropriate random variable whose expectation is the quantity of interest based on a fair coin toss and calculate its variance.\n",
    "\n",
    "For the autograder, in the code cell, put your answer in the varialbe `q4`. Show your work in the Markdown cell.\n",
    "\n",
    "<!--\n",
    "BEGIN QUESTION\n",
    "name: q4\n",
    "manual: false\n",
    "points:\n",
    "    - 0.5\n",
    "    - 0.5\n",
    "    - 1\n",
    "-->"
   ]
  },
  {
   "cell_type": "code",
   "execution_count": 22,
   "metadata": {},
   "outputs": [
    {
     "name": "stdout",
     "output_type": "stream",
     "text": [
      "10000.0\n"
     ]
    },
    {
     "data": {
      "text/plain": [
       "10000"
      ]
     },
     "execution_count": 22,
     "metadata": {},
     "output_type": "execute_result"
    }
   ],
   "source": [
    "# Code for question 4 (or can use a hand calculator and show work)\n",
    "import numpy as np\n",
    "variance = ((0.5**2)*0.51 + (0.5**2)*0.49)\n",
    "q4 = 4*variance/(0.01**2)\n",
    "print(q4)\n",
    "q4 = int(np.round(q4))\n",
    "q4"
   ]
  },
  {
   "cell_type": "markdown",
   "metadata": {},
   "source": [
    "_Type your answer here, replacing this text._"
   ]
  },
  {
   "cell_type": "markdown",
   "metadata": {},
   "source": [
    "<!-- END QUESTION -->\n",
    "\n",
    "\n",
    "\n",
    "## Question 5\n",
    "In the US presidential election, there are typically two candidates: a Democratic candidate and a Republican candidate. Each state has a number of electoral college votes. The candidate who wins the most votes in a state receives all of the electoral college votes for that particular state (there are a couple of exceptions, but to keep things simple we will assume this is how it works for all states). A candidate who wins at least 270 electoral college votes wins the national election. \n",
    "\n",
    "### The Data\n",
    "Below we import the `polls.csv` dataset describing the 2020 US presidential election and preview the first few rows. For each of the 50 states in the USA plus Washington D.C. (which has electoral college votes like a state), the dataset records:\n",
    "- `d_percent`: The percent of polled voters indicating they will vote for the Democratic candidate in the 2020 presidential election.\n",
    "- `r_percent`: The percent of polled voters indicating they will vote for the Republican candidate in the 2020 presidential election.\n",
    "- `ec_weight`: The number of electoral college votes controlled by the particular state.  \n",
    "\n",
    "### What you will do\n",
    "**In this question, you will write a Monte Carlo simulation to understand the probabilities of the following three events.** This is based roughly on the idea of computational models for predicting election outcomes such as those you may have seen recently in the news. \n",
    "- $D$: the Democratic candidate wins at least 270 electoral college votes (and thus the presidential election)\n",
    "- $R$: the Republican candidate wins at least 270 electoral college votes (and thus the presidential election) \n",
    "- $U$: neither candidate gets 270 electoral college votes and the election is undecided.\n",
    "\n",
    "### How you will do it\n",
    "To do so, model the uncertainty in the poll numbers as follows. For each simulation:\n",
    "1. For each state independently draw 0-mean normally distributed random `noise` for a given standard deviation estimate $\\sigma$. You can do so, for example, using [numpy.random.normal](https://numpy.org/doc/stable/reference/random/generated/numpy.random.normal.html). This reflects the assumption that the poll numbers are not certain and could vary in either direction by one or two standard deviations.\n",
    "2. Add `noise` (independently for each state) to `d_percent` and subtract `noise` from `r_percent`. So if you get `noise = 1.5`, `d_percent = 42`, and `r_percent = 57` you would get `43.5` for the new `d_percent` and `55.5` for the new `r_percent`. \n",
    "\n",
    "Then for a given simulation you can check which of $D$, $R$, or $U$ occur by checking, for each state, which candidate gets a larger share of the vote, and adding up their electoral votes accross all of the states.\n",
    "\n",
    "Make sure that **each simulation starts with the original values** from the `polls` dataset not the results from the previous simulation. \n",
    "\n",
    "Code the simulation and then **run 10,000 simulations for each of the following values of $\\sigma$: 1, 5, and 10. For each, report the empirical probability of the events $D$, $R$, and $U$.** You should therefore have a total of 9 values. Report your values by creating three lists `q5_1`, `q5_5`, and `q5_10`, one for each $\\sigma$. The first value of each list is the number of simulations the Democrats won, the second value is the number the Republicans won, and the final value is for Undecided.\n",
    "\n",
    "It may take a few seconds for your simulations to run, but if they are running for minutes, you are likely writing inefficient loops instead of taking advantage of efficient Pandas and Numpy operations. You will need one loop over the 10,000 simulations but should not need any others.\n",
    "\n",
    "*Hint: We recommend that you write the following functions:*\n",
    "1. A function that takes a `DataFrame` of votes where the noise has already been added and returns who has won based on the electoral college votes per state.\n",
    "1. A function that simulates an election by taking a `DataFrame` of vote/poll data and a standard deviation and adds noise.\n",
    "1. A function that runs all the simulations for a specific standard deviation.\n",
    "\n",
    "It'll make your code easier to write and understand.\n",
    "\n",
    "### Submission Instructions\n",
    "For the sake of consistency and easy debugging, we recommend that you do the following when you are ready to submit:\n",
    "1. Surround your code with triple quotes (e.g. `''' <code here in many lines> '''`, see example below).\n",
    "1. Outside the triple quotes, manually assign the values of `q5_1`, `q5_5`, and `q5_10` with the values of the last time you ran your code.\n",
    "\n",
    "Keep your code in your notebook so that it can be manually graded. But we do not want the autograder to timeout and therefore give you a 0."
   ]
  },
  {
   "cell_type": "code",
   "execution_count": null,
   "metadata": {},
   "outputs": [],
   "source": [
    "import pandas as pd\n",
    "polls = pd.read_csv(\"polls.csv\")\n",
    "polls.head()\n",
    "# polls[\"d_percent\"]\n"
   ]
  },
  {
   "cell_type": "code",
   "execution_count": null,
   "metadata": {},
   "outputs": [],
   "source": [
    "import numpy as np\n",
    "\n",
    "# This is an example of convert code into a string so it is not run\n",
    "'''\n",
    "i_am = 'code that will not execute'\n",
    "as_long_as = 'the triple quotes are around me'\n",
    "'''\n",
    "\n",
    "'''def winner(polls):\n",
    "    demStates = polls[polls[\"d_percent\"] > polls[\"r_percent\"]]\n",
    "    repStates = polls[polls[\"d_percent\"] < polls[\"r_percent\"]]\n",
    "    demEVotes = demStates.sum()[\"ec_weight\"]\n",
    "    repEVotes = repStates.sum()[\"ec_weight\"]\n",
    "    \n",
    "    if demEVotes >= 270:\n",
    "        return 0\n",
    "    if repEVotes >= 270:\n",
    "        return 1\n",
    "    return 2\n",
    "\n",
    "def simulateElection(polls, sd):\n",
    "    noise = np.random.normal(0,sd,len(polls))\n",
    "#     print(polls.head())\n",
    "    polls[\"d_percent\"] += noise\n",
    "    polls[\"r_percent\"] -= noise\n",
    "#     print(polls.head())\n",
    "    return polls\n",
    "\n",
    "def runSimulations(polls):\n",
    "    results1 = [0,0,0] #D,R,U\n",
    "    results2 = [0,0,0] \n",
    "    results3 = [0,0,0]\n",
    "    \n",
    "    runs = 10000\n",
    "    for run in range(runs):\n",
    "        winner1 = winner(simulateElection(polls.copy(), 1))\n",
    "        results1[winner1] += 1\n",
    "        \n",
    "        winner2 = winner(simulateElection(polls.copy(), 5))\n",
    "        results2[winner2] += 1\n",
    "        \n",
    "        winner3 = winner(simulateElection(polls.copy(), 10))\n",
    "        results3[winner3] += 1\n",
    "        if run % 1000 == 0:\n",
    "            print(run)\n",
    "            \n",
    "    return results1, results2, results3\n",
    "\n",
    "q5_1,q5_5,q5_10 = runSimulations(polls)\n",
    "'''\n",
    "\n",
    "q5_1 = [9203, 628, 169]\n",
    "q5_5 = [8228, 1686, 86]\n",
    "q5_10 = [7430, 2502, 68]\n",
    "\n",
    "# Leave these here for manual grading\n",
    "print(q5_1)\n",
    "print(q5_5)\n",
    "print(q5_10)"
   ]
  },
  {
   "cell_type": "markdown",
   "metadata": {},
   "source": [
    "_Type your answer here, replacing this text._"
   ]
  }
 ],
 "metadata": {
  "kernelspec": {
   "display_name": "Python 3 (ipykernel)",
   "language": "python",
   "name": "python3"
  },
  "language_info": {
   "codemirror_mode": {
    "name": "ipython",
    "version": 3
   },
   "file_extension": ".py",
   "mimetype": "text/x-python",
   "name": "python",
   "nbconvert_exporter": "python",
   "pygments_lexer": "ipython3",
   "version": "3.9.7"
  }
 },
 "nbformat": 4,
 "nbformat_minor": 4
}
